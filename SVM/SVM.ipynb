{
 "cells": [
  {
   "cell_type": "code",
   "execution_count": 177,
   "metadata": {},
   "outputs": [],
   "source": [
    "import numpy as np # linear algebra\n",
    "import pandas as pd # data processing, CSV file I/O (e.g. pd.read_csv)\n",
    "import matplotlib.pyplot as plt # for data visualization\n",
    "import seaborn as sns # for statistical data visualization\n",
    "%matplotlib inline\n",
    "\n"
   ]
  },
  {
   "cell_type": "code",
   "execution_count": 178,
   "metadata": {},
   "outputs": [],
   "source": [
    "#Import dataset\n",
    "data = 'D:\\KULIAH\\SMT 7\\Machine Learning\\code\\Machine-Learning\\SVM\\pulsar_data_train.csv.zip'\n",
    "datatrain = pd.read_csv(data)"
   ]
  },
  {
   "cell_type": "code",
   "execution_count": 179,
   "metadata": {},
   "outputs": [
    {
     "data": {
      "text/plain": [
       "(12528, 9)"
      ]
     },
     "execution_count": 179,
     "metadata": {},
     "output_type": "execute_result"
    }
   ],
   "source": [
    "datatrain.shape\n"
   ]
  },
  {
   "cell_type": "code",
   "execution_count": 180,
   "metadata": {},
   "outputs": [
    {
     "data": {
      "text/html": [
       "<div>\n",
       "<style scoped>\n",
       "    .dataframe tbody tr th:only-of-type {\n",
       "        vertical-align: middle;\n",
       "    }\n",
       "\n",
       "    .dataframe tbody tr th {\n",
       "        vertical-align: top;\n",
       "    }\n",
       "\n",
       "    .dataframe thead th {\n",
       "        text-align: right;\n",
       "    }\n",
       "</style>\n",
       "<table border=\"1\" class=\"dataframe\">\n",
       "  <thead>\n",
       "    <tr style=\"text-align: right;\">\n",
       "      <th></th>\n",
       "      <th>Mean of the integrated profile</th>\n",
       "      <th>Standard deviation of the integrated profile</th>\n",
       "      <th>Excess kurtosis of the integrated profile</th>\n",
       "      <th>Skewness of the integrated profile</th>\n",
       "      <th>Mean of the DM-SNR curve</th>\n",
       "      <th>Standard deviation of the DM-SNR curve</th>\n",
       "      <th>Excess kurtosis of the DM-SNR curve</th>\n",
       "      <th>Skewness of the DM-SNR curve</th>\n",
       "      <th>target_class</th>\n",
       "    </tr>\n",
       "  </thead>\n",
       "  <tbody>\n",
       "    <tr>\n",
       "      <th>0</th>\n",
       "      <td>121.156250</td>\n",
       "      <td>48.372971</td>\n",
       "      <td>0.375485</td>\n",
       "      <td>-0.013165</td>\n",
       "      <td>3.168896</td>\n",
       "      <td>18.399367</td>\n",
       "      <td>7.449874</td>\n",
       "      <td>65.159298</td>\n",
       "      <td>0.0</td>\n",
       "    </tr>\n",
       "    <tr>\n",
       "      <th>1</th>\n",
       "      <td>76.968750</td>\n",
       "      <td>36.175557</td>\n",
       "      <td>0.712898</td>\n",
       "      <td>3.388719</td>\n",
       "      <td>2.399666</td>\n",
       "      <td>17.570997</td>\n",
       "      <td>9.414652</td>\n",
       "      <td>102.722975</td>\n",
       "      <td>0.0</td>\n",
       "    </tr>\n",
       "    <tr>\n",
       "      <th>2</th>\n",
       "      <td>130.585938</td>\n",
       "      <td>53.229534</td>\n",
       "      <td>0.133408</td>\n",
       "      <td>-0.297242</td>\n",
       "      <td>2.743311</td>\n",
       "      <td>22.362553</td>\n",
       "      <td>8.508364</td>\n",
       "      <td>74.031324</td>\n",
       "      <td>0.0</td>\n",
       "    </tr>\n",
       "    <tr>\n",
       "      <th>3</th>\n",
       "      <td>156.398438</td>\n",
       "      <td>48.865942</td>\n",
       "      <td>-0.215989</td>\n",
       "      <td>-0.171294</td>\n",
       "      <td>17.471572</td>\n",
       "      <td>NaN</td>\n",
       "      <td>2.958066</td>\n",
       "      <td>7.197842</td>\n",
       "      <td>0.0</td>\n",
       "    </tr>\n",
       "    <tr>\n",
       "      <th>4</th>\n",
       "      <td>84.804688</td>\n",
       "      <td>36.117659</td>\n",
       "      <td>0.825013</td>\n",
       "      <td>3.274125</td>\n",
       "      <td>2.790134</td>\n",
       "      <td>20.618009</td>\n",
       "      <td>8.405008</td>\n",
       "      <td>76.291128</td>\n",
       "      <td>0.0</td>\n",
       "    </tr>\n",
       "    <tr>\n",
       "      <th>...</th>\n",
       "      <td>...</td>\n",
       "      <td>...</td>\n",
       "      <td>...</td>\n",
       "      <td>...</td>\n",
       "      <td>...</td>\n",
       "      <td>...</td>\n",
       "      <td>...</td>\n",
       "      <td>...</td>\n",
       "      <td>...</td>\n",
       "    </tr>\n",
       "    <tr>\n",
       "      <th>12523</th>\n",
       "      <td>124.312500</td>\n",
       "      <td>53.179053</td>\n",
       "      <td>-0.012418</td>\n",
       "      <td>-0.556021</td>\n",
       "      <td>7.186455</td>\n",
       "      <td>29.308266</td>\n",
       "      <td>4.531382</td>\n",
       "      <td>21.725143</td>\n",
       "      <td>0.0</td>\n",
       "    </tr>\n",
       "    <tr>\n",
       "      <th>12524</th>\n",
       "      <td>115.617188</td>\n",
       "      <td>46.784600</td>\n",
       "      <td>0.218177</td>\n",
       "      <td>0.226757</td>\n",
       "      <td>6.140468</td>\n",
       "      <td>NaN</td>\n",
       "      <td>5.732201</td>\n",
       "      <td>34.357283</td>\n",
       "      <td>0.0</td>\n",
       "    </tr>\n",
       "    <tr>\n",
       "      <th>12525</th>\n",
       "      <td>116.031250</td>\n",
       "      <td>43.213846</td>\n",
       "      <td>0.663456</td>\n",
       "      <td>0.433088</td>\n",
       "      <td>0.785117</td>\n",
       "      <td>11.628149</td>\n",
       "      <td>17.055215</td>\n",
       "      <td>312.204325</td>\n",
       "      <td>0.0</td>\n",
       "    </tr>\n",
       "    <tr>\n",
       "      <th>12526</th>\n",
       "      <td>135.664062</td>\n",
       "      <td>49.933749</td>\n",
       "      <td>-0.089940</td>\n",
       "      <td>-0.226726</td>\n",
       "      <td>3.859532</td>\n",
       "      <td>21.501505</td>\n",
       "      <td>7.398395</td>\n",
       "      <td>62.334018</td>\n",
       "      <td>0.0</td>\n",
       "    </tr>\n",
       "    <tr>\n",
       "      <th>12527</th>\n",
       "      <td>120.726562</td>\n",
       "      <td>50.472256</td>\n",
       "      <td>0.346178</td>\n",
       "      <td>0.184797</td>\n",
       "      <td>0.769231</td>\n",
       "      <td>11.792603</td>\n",
       "      <td>17.662222</td>\n",
       "      <td>329.548016</td>\n",
       "      <td>0.0</td>\n",
       "    </tr>\n",
       "  </tbody>\n",
       "</table>\n",
       "<p>12528 rows × 9 columns</p>\n",
       "</div>"
      ],
      "text/plain": [
       "        Mean of the integrated profile  \\\n",
       "0                           121.156250   \n",
       "1                            76.968750   \n",
       "2                           130.585938   \n",
       "3                           156.398438   \n",
       "4                            84.804688   \n",
       "...                                ...   \n",
       "12523                       124.312500   \n",
       "12524                       115.617188   \n",
       "12525                       116.031250   \n",
       "12526                       135.664062   \n",
       "12527                       120.726562   \n",
       "\n",
       "        Standard deviation of the integrated profile  \\\n",
       "0                                          48.372971   \n",
       "1                                          36.175557   \n",
       "2                                          53.229534   \n",
       "3                                          48.865942   \n",
       "4                                          36.117659   \n",
       "...                                              ...   \n",
       "12523                                      53.179053   \n",
       "12524                                      46.784600   \n",
       "12525                                      43.213846   \n",
       "12526                                      49.933749   \n",
       "12527                                      50.472256   \n",
       "\n",
       "        Excess kurtosis of the integrated profile  \\\n",
       "0                                        0.375485   \n",
       "1                                        0.712898   \n",
       "2                                        0.133408   \n",
       "3                                       -0.215989   \n",
       "4                                        0.825013   \n",
       "...                                           ...   \n",
       "12523                                   -0.012418   \n",
       "12524                                    0.218177   \n",
       "12525                                    0.663456   \n",
       "12526                                   -0.089940   \n",
       "12527                                    0.346178   \n",
       "\n",
       "        Skewness of the integrated profile   Mean of the DM-SNR curve  \\\n",
       "0                                -0.013165                   3.168896   \n",
       "1                                 3.388719                   2.399666   \n",
       "2                                -0.297242                   2.743311   \n",
       "3                                -0.171294                  17.471572   \n",
       "4                                 3.274125                   2.790134   \n",
       "...                                    ...                        ...   \n",
       "12523                            -0.556021                   7.186455   \n",
       "12524                             0.226757                   6.140468   \n",
       "12525                             0.433088                   0.785117   \n",
       "12526                            -0.226726                   3.859532   \n",
       "12527                             0.184797                   0.769231   \n",
       "\n",
       "        Standard deviation of the DM-SNR curve  \\\n",
       "0                                    18.399367   \n",
       "1                                    17.570997   \n",
       "2                                    22.362553   \n",
       "3                                          NaN   \n",
       "4                                    20.618009   \n",
       "...                                        ...   \n",
       "12523                                29.308266   \n",
       "12524                                      NaN   \n",
       "12525                                11.628149   \n",
       "12526                                21.501505   \n",
       "12527                                11.792603   \n",
       "\n",
       "        Excess kurtosis of the DM-SNR curve   Skewness of the DM-SNR curve  \\\n",
       "0                                  7.449874                      65.159298   \n",
       "1                                  9.414652                     102.722975   \n",
       "2                                  8.508364                      74.031324   \n",
       "3                                  2.958066                       7.197842   \n",
       "4                                  8.405008                      76.291128   \n",
       "...                                     ...                            ...   \n",
       "12523                              4.531382                      21.725143   \n",
       "12524                              5.732201                      34.357283   \n",
       "12525                             17.055215                     312.204325   \n",
       "12526                              7.398395                      62.334018   \n",
       "12527                             17.662222                     329.548016   \n",
       "\n",
       "       target_class  \n",
       "0               0.0  \n",
       "1               0.0  \n",
       "2               0.0  \n",
       "3               0.0  \n",
       "4               0.0  \n",
       "...             ...  \n",
       "12523           0.0  \n",
       "12524           0.0  \n",
       "12525           0.0  \n",
       "12526           0.0  \n",
       "12527           0.0  \n",
       "\n",
       "[12528 rows x 9 columns]"
      ]
     },
     "execution_count": 180,
     "metadata": {},
     "output_type": "execute_result"
    }
   ],
   "source": [
    "datatrain"
   ]
  },
  {
   "cell_type": "code",
   "execution_count": 181,
   "metadata": {},
   "outputs": [
    {
     "data": {
      "text/plain": [
       "Index([' Mean of the integrated profile',\n",
       "       ' Standard deviation of the integrated profile',\n",
       "       ' Excess kurtosis of the integrated profile',\n",
       "       ' Skewness of the integrated profile', ' Mean of the DM-SNR curve',\n",
       "       ' Standard deviation of the DM-SNR curve',\n",
       "       ' Excess kurtosis of the DM-SNR curve', ' Skewness of the DM-SNR curve',\n",
       "       'target_class'],\n",
       "      dtype='object')"
      ]
     },
     "execution_count": 181,
     "metadata": {},
     "output_type": "execute_result"
    }
   ],
   "source": [
    "datatrain.columns"
   ]
  },
  {
   "cell_type": "code",
   "execution_count": 182,
   "metadata": {},
   "outputs": [
    {
     "name": "stdout",
     "output_type": "stream",
     "text": [
      "<class 'pandas.core.frame.DataFrame'>\n",
      "RangeIndex: 12528 entries, 0 to 12527\n",
      "Data columns (total 9 columns):\n",
      " #   Column                                         Non-Null Count  Dtype  \n",
      "---  ------                                         --------------  -----  \n",
      " 0    Mean of the integrated profile                12528 non-null  float64\n",
      " 1    Standard deviation of the integrated profile  12528 non-null  float64\n",
      " 2    Excess kurtosis of the integrated profile     10793 non-null  float64\n",
      " 3    Skewness of the integrated profile            12528 non-null  float64\n",
      " 4    Mean of the DM-SNR curve                      12528 non-null  float64\n",
      " 5    Standard deviation of the DM-SNR curve        11350 non-null  float64\n",
      " 6    Excess kurtosis of the DM-SNR curve           12528 non-null  float64\n",
      " 7    Skewness of the DM-SNR curve                  11903 non-null  float64\n",
      " 8   target_class                                   12528 non-null  float64\n",
      "dtypes: float64(9)\n",
      "memory usage: 881.0 KB\n"
     ]
    }
   ],
   "source": [
    "datatrain.info()"
   ]
  },
  {
   "cell_type": "markdown",
   "metadata": {},
   "source": [
    "MISSING VALUES EXPLORATORY"
   ]
  },
  {
   "cell_type": "code",
   "execution_count": 183,
   "metadata": {},
   "outputs": [],
   "source": [
    "datatrain.columns = datatrain.columns.str.strip()"
   ]
  },
  {
   "cell_type": "code",
   "execution_count": 184,
   "metadata": {},
   "outputs": [
    {
     "data": {
      "text/plain": [
       "Index(['Mean of the integrated profile',\n",
       "       'Standard deviation of the integrated profile',\n",
       "       'Excess kurtosis of the integrated profile',\n",
       "       'Skewness of the integrated profile', 'Mean of the DM-SNR curve',\n",
       "       'Standard deviation of the DM-SNR curve',\n",
       "       'Excess kurtosis of the DM-SNR curve', 'Skewness of the DM-SNR curve',\n",
       "       'target_class'],\n",
       "      dtype='object')"
      ]
     },
     "execution_count": 184,
     "metadata": {},
     "output_type": "execute_result"
    }
   ],
   "source": [
    "datatrain.columns"
   ]
  },
  {
   "cell_type": "code",
   "execution_count": 185,
   "metadata": {},
   "outputs": [],
   "source": [
    "datatrain.columns = ['IP Mean', 'IP Sd', 'IP Kurtosis', 'IP Skewness',\n",
    "                        'DM-SNR Mean', 'DM-SNR Sd', 'DM-SNR Kurtosis', 'DM-SNR Skewness', 'target_class']"
   ]
  },
  {
   "cell_type": "code",
   "execution_count": 186,
   "metadata": {},
   "outputs": [
    {
     "data": {
      "text/plain": [
       "Index(['IP Mean', 'IP Sd', 'IP Kurtosis', 'IP Skewness', 'DM-SNR Mean',\n",
       "       'DM-SNR Sd', 'DM-SNR Kurtosis', 'DM-SNR Skewness', 'target_class'],\n",
       "      dtype='object')"
      ]
     },
     "execution_count": 186,
     "metadata": {},
     "output_type": "execute_result"
    }
   ],
   "source": [
    "datatrain.columns"
   ]
  },
  {
   "cell_type": "code",
   "execution_count": 187,
   "metadata": {},
   "outputs": [
    {
     "data": {
      "text/plain": [
       "0.0    11375\n",
       "1.0     1153\n",
       "Name: target_class, dtype: int64"
      ]
     },
     "execution_count": 187,
     "metadata": {},
     "output_type": "execute_result"
    }
   ],
   "source": [
    "datatrain['target_class'].value_counts()"
   ]
  },
  {
   "cell_type": "code",
   "execution_count": 188,
   "metadata": {},
   "outputs": [
    {
     "data": {
      "text/html": [
       "<div>\n",
       "<style scoped>\n",
       "    .dataframe tbody tr th:only-of-type {\n",
       "        vertical-align: middle;\n",
       "    }\n",
       "\n",
       "    .dataframe tbody tr th {\n",
       "        vertical-align: top;\n",
       "    }\n",
       "\n",
       "    .dataframe thead th {\n",
       "        text-align: right;\n",
       "    }\n",
       "</style>\n",
       "<table border=\"1\" class=\"dataframe\">\n",
       "  <thead>\n",
       "    <tr style=\"text-align: right;\">\n",
       "      <th></th>\n",
       "      <th>IP Mean</th>\n",
       "      <th>IP Sd</th>\n",
       "      <th>IP Kurtosis</th>\n",
       "      <th>IP Skewness</th>\n",
       "      <th>DM-SNR Mean</th>\n",
       "      <th>DM-SNR Sd</th>\n",
       "      <th>DM-SNR Kurtosis</th>\n",
       "      <th>DM-SNR Skewness</th>\n",
       "      <th>target_class</th>\n",
       "    </tr>\n",
       "  </thead>\n",
       "  <tbody>\n",
       "    <tr>\n",
       "      <th>0</th>\n",
       "      <td>121.156250</td>\n",
       "      <td>48.372971</td>\n",
       "      <td>0.375485</td>\n",
       "      <td>-0.013165</td>\n",
       "      <td>3.168896</td>\n",
       "      <td>18.399367</td>\n",
       "      <td>7.449874</td>\n",
       "      <td>65.159298</td>\n",
       "      <td>0.0</td>\n",
       "    </tr>\n",
       "    <tr>\n",
       "      <th>1</th>\n",
       "      <td>76.968750</td>\n",
       "      <td>36.175557</td>\n",
       "      <td>0.712898</td>\n",
       "      <td>3.388719</td>\n",
       "      <td>2.399666</td>\n",
       "      <td>17.570997</td>\n",
       "      <td>9.414652</td>\n",
       "      <td>102.722975</td>\n",
       "      <td>0.0</td>\n",
       "    </tr>\n",
       "    <tr>\n",
       "      <th>2</th>\n",
       "      <td>130.585938</td>\n",
       "      <td>53.229534</td>\n",
       "      <td>0.133408</td>\n",
       "      <td>-0.297242</td>\n",
       "      <td>2.743311</td>\n",
       "      <td>22.362553</td>\n",
       "      <td>8.508364</td>\n",
       "      <td>74.031324</td>\n",
       "      <td>0.0</td>\n",
       "    </tr>\n",
       "    <tr>\n",
       "      <th>3</th>\n",
       "      <td>156.398438</td>\n",
       "      <td>48.865942</td>\n",
       "      <td>-0.215989</td>\n",
       "      <td>-0.171294</td>\n",
       "      <td>17.471572</td>\n",
       "      <td>NaN</td>\n",
       "      <td>2.958066</td>\n",
       "      <td>7.197842</td>\n",
       "      <td>0.0</td>\n",
       "    </tr>\n",
       "    <tr>\n",
       "      <th>4</th>\n",
       "      <td>84.804688</td>\n",
       "      <td>36.117659</td>\n",
       "      <td>0.825013</td>\n",
       "      <td>3.274125</td>\n",
       "      <td>2.790134</td>\n",
       "      <td>20.618009</td>\n",
       "      <td>8.405008</td>\n",
       "      <td>76.291128</td>\n",
       "      <td>0.0</td>\n",
       "    </tr>\n",
       "    <tr>\n",
       "      <th>...</th>\n",
       "      <td>...</td>\n",
       "      <td>...</td>\n",
       "      <td>...</td>\n",
       "      <td>...</td>\n",
       "      <td>...</td>\n",
       "      <td>...</td>\n",
       "      <td>...</td>\n",
       "      <td>...</td>\n",
       "      <td>...</td>\n",
       "    </tr>\n",
       "    <tr>\n",
       "      <th>12523</th>\n",
       "      <td>124.312500</td>\n",
       "      <td>53.179053</td>\n",
       "      <td>-0.012418</td>\n",
       "      <td>-0.556021</td>\n",
       "      <td>7.186455</td>\n",
       "      <td>29.308266</td>\n",
       "      <td>4.531382</td>\n",
       "      <td>21.725143</td>\n",
       "      <td>0.0</td>\n",
       "    </tr>\n",
       "    <tr>\n",
       "      <th>12524</th>\n",
       "      <td>115.617188</td>\n",
       "      <td>46.784600</td>\n",
       "      <td>0.218177</td>\n",
       "      <td>0.226757</td>\n",
       "      <td>6.140468</td>\n",
       "      <td>NaN</td>\n",
       "      <td>5.732201</td>\n",
       "      <td>34.357283</td>\n",
       "      <td>0.0</td>\n",
       "    </tr>\n",
       "    <tr>\n",
       "      <th>12525</th>\n",
       "      <td>116.031250</td>\n",
       "      <td>43.213846</td>\n",
       "      <td>0.663456</td>\n",
       "      <td>0.433088</td>\n",
       "      <td>0.785117</td>\n",
       "      <td>11.628149</td>\n",
       "      <td>17.055215</td>\n",
       "      <td>312.204325</td>\n",
       "      <td>0.0</td>\n",
       "    </tr>\n",
       "    <tr>\n",
       "      <th>12526</th>\n",
       "      <td>135.664062</td>\n",
       "      <td>49.933749</td>\n",
       "      <td>-0.089940</td>\n",
       "      <td>-0.226726</td>\n",
       "      <td>3.859532</td>\n",
       "      <td>21.501505</td>\n",
       "      <td>7.398395</td>\n",
       "      <td>62.334018</td>\n",
       "      <td>0.0</td>\n",
       "    </tr>\n",
       "    <tr>\n",
       "      <th>12527</th>\n",
       "      <td>120.726562</td>\n",
       "      <td>50.472256</td>\n",
       "      <td>0.346178</td>\n",
       "      <td>0.184797</td>\n",
       "      <td>0.769231</td>\n",
       "      <td>11.792603</td>\n",
       "      <td>17.662222</td>\n",
       "      <td>329.548016</td>\n",
       "      <td>0.0</td>\n",
       "    </tr>\n",
       "  </tbody>\n",
       "</table>\n",
       "<p>12528 rows × 9 columns</p>\n",
       "</div>"
      ],
      "text/plain": [
       "          IP Mean      IP Sd  IP Kurtosis  IP Skewness  DM-SNR Mean  \\\n",
       "0      121.156250  48.372971     0.375485    -0.013165     3.168896   \n",
       "1       76.968750  36.175557     0.712898     3.388719     2.399666   \n",
       "2      130.585938  53.229534     0.133408    -0.297242     2.743311   \n",
       "3      156.398438  48.865942    -0.215989    -0.171294    17.471572   \n",
       "4       84.804688  36.117659     0.825013     3.274125     2.790134   \n",
       "...           ...        ...          ...          ...          ...   \n",
       "12523  124.312500  53.179053    -0.012418    -0.556021     7.186455   \n",
       "12524  115.617188  46.784600     0.218177     0.226757     6.140468   \n",
       "12525  116.031250  43.213846     0.663456     0.433088     0.785117   \n",
       "12526  135.664062  49.933749    -0.089940    -0.226726     3.859532   \n",
       "12527  120.726562  50.472256     0.346178     0.184797     0.769231   \n",
       "\n",
       "       DM-SNR Sd  DM-SNR Kurtosis  DM-SNR Skewness  target_class  \n",
       "0      18.399367         7.449874        65.159298           0.0  \n",
       "1      17.570997         9.414652       102.722975           0.0  \n",
       "2      22.362553         8.508364        74.031324           0.0  \n",
       "3            NaN         2.958066         7.197842           0.0  \n",
       "4      20.618009         8.405008        76.291128           0.0  \n",
       "...          ...              ...              ...           ...  \n",
       "12523  29.308266         4.531382        21.725143           0.0  \n",
       "12524        NaN         5.732201        34.357283           0.0  \n",
       "12525  11.628149        17.055215       312.204325           0.0  \n",
       "12526  21.501505         7.398395        62.334018           0.0  \n",
       "12527  11.792603        17.662222       329.548016           0.0  \n",
       "\n",
       "[12528 rows x 9 columns]"
      ]
     },
     "execution_count": 188,
     "metadata": {},
     "output_type": "execute_result"
    }
   ],
   "source": [
    "datatrain"
   ]
  },
  {
   "cell_type": "code",
   "execution_count": 189,
   "metadata": {},
   "outputs": [
    {
     "name": "stdout",
     "output_type": "stream",
     "text": [
      "<class 'pandas.core.frame.DataFrame'>\n",
      "RangeIndex: 12528 entries, 0 to 12527\n",
      "Data columns (total 9 columns):\n",
      " #   Column           Non-Null Count  Dtype  \n",
      "---  ------           --------------  -----  \n",
      " 0   IP Mean          12528 non-null  float64\n",
      " 1   IP Sd            12528 non-null  float64\n",
      " 2   IP Kurtosis      10793 non-null  float64\n",
      " 3   IP Skewness      12528 non-null  float64\n",
      " 4   DM-SNR Mean      12528 non-null  float64\n",
      " 5   DM-SNR Sd        11350 non-null  float64\n",
      " 6   DM-SNR Kurtosis  12528 non-null  float64\n",
      " 7   DM-SNR Skewness  11903 non-null  float64\n",
      " 8   target_class     12528 non-null  float64\n",
      "dtypes: float64(9)\n",
      "memory usage: 881.0 KB\n"
     ]
    }
   ],
   "source": [
    "datatrain.info()"
   ]
  },
  {
   "cell_type": "code",
   "execution_count": 190,
   "metadata": {},
   "outputs": [],
   "source": [
    "datatrain['target_class'] = datatrain['target_class'].astype('int64')"
   ]
  },
  {
   "cell_type": "code",
   "execution_count": 191,
   "metadata": {},
   "outputs": [
    {
     "data": {
      "text/html": [
       "<div>\n",
       "<style scoped>\n",
       "    .dataframe tbody tr th:only-of-type {\n",
       "        vertical-align: middle;\n",
       "    }\n",
       "\n",
       "    .dataframe tbody tr th {\n",
       "        vertical-align: top;\n",
       "    }\n",
       "\n",
       "    .dataframe thead th {\n",
       "        text-align: right;\n",
       "    }\n",
       "</style>\n",
       "<table border=\"1\" class=\"dataframe\">\n",
       "  <thead>\n",
       "    <tr style=\"text-align: right;\">\n",
       "      <th></th>\n",
       "      <th>IP Mean</th>\n",
       "      <th>IP Sd</th>\n",
       "      <th>IP Kurtosis</th>\n",
       "      <th>IP Skewness</th>\n",
       "      <th>DM-SNR Mean</th>\n",
       "      <th>DM-SNR Sd</th>\n",
       "      <th>DM-SNR Kurtosis</th>\n",
       "      <th>DM-SNR Skewness</th>\n",
       "      <th>target_class</th>\n",
       "    </tr>\n",
       "  </thead>\n",
       "  <tbody>\n",
       "    <tr>\n",
       "      <th>0</th>\n",
       "      <td>121.156250</td>\n",
       "      <td>48.372971</td>\n",
       "      <td>0.375485</td>\n",
       "      <td>-0.013165</td>\n",
       "      <td>3.168896</td>\n",
       "      <td>18.399367</td>\n",
       "      <td>7.449874</td>\n",
       "      <td>65.159298</td>\n",
       "      <td>0</td>\n",
       "    </tr>\n",
       "    <tr>\n",
       "      <th>1</th>\n",
       "      <td>76.968750</td>\n",
       "      <td>36.175557</td>\n",
       "      <td>0.712898</td>\n",
       "      <td>3.388719</td>\n",
       "      <td>2.399666</td>\n",
       "      <td>17.570997</td>\n",
       "      <td>9.414652</td>\n",
       "      <td>102.722975</td>\n",
       "      <td>0</td>\n",
       "    </tr>\n",
       "    <tr>\n",
       "      <th>2</th>\n",
       "      <td>130.585938</td>\n",
       "      <td>53.229534</td>\n",
       "      <td>0.133408</td>\n",
       "      <td>-0.297242</td>\n",
       "      <td>2.743311</td>\n",
       "      <td>22.362553</td>\n",
       "      <td>8.508364</td>\n",
       "      <td>74.031324</td>\n",
       "      <td>0</td>\n",
       "    </tr>\n",
       "    <tr>\n",
       "      <th>3</th>\n",
       "      <td>156.398438</td>\n",
       "      <td>48.865942</td>\n",
       "      <td>-0.215989</td>\n",
       "      <td>-0.171294</td>\n",
       "      <td>17.471572</td>\n",
       "      <td>NaN</td>\n",
       "      <td>2.958066</td>\n",
       "      <td>7.197842</td>\n",
       "      <td>0</td>\n",
       "    </tr>\n",
       "    <tr>\n",
       "      <th>4</th>\n",
       "      <td>84.804688</td>\n",
       "      <td>36.117659</td>\n",
       "      <td>0.825013</td>\n",
       "      <td>3.274125</td>\n",
       "      <td>2.790134</td>\n",
       "      <td>20.618009</td>\n",
       "      <td>8.405008</td>\n",
       "      <td>76.291128</td>\n",
       "      <td>0</td>\n",
       "    </tr>\n",
       "    <tr>\n",
       "      <th>...</th>\n",
       "      <td>...</td>\n",
       "      <td>...</td>\n",
       "      <td>...</td>\n",
       "      <td>...</td>\n",
       "      <td>...</td>\n",
       "      <td>...</td>\n",
       "      <td>...</td>\n",
       "      <td>...</td>\n",
       "      <td>...</td>\n",
       "    </tr>\n",
       "    <tr>\n",
       "      <th>12523</th>\n",
       "      <td>124.312500</td>\n",
       "      <td>53.179053</td>\n",
       "      <td>-0.012418</td>\n",
       "      <td>-0.556021</td>\n",
       "      <td>7.186455</td>\n",
       "      <td>29.308266</td>\n",
       "      <td>4.531382</td>\n",
       "      <td>21.725143</td>\n",
       "      <td>0</td>\n",
       "    </tr>\n",
       "    <tr>\n",
       "      <th>12524</th>\n",
       "      <td>115.617188</td>\n",
       "      <td>46.784600</td>\n",
       "      <td>0.218177</td>\n",
       "      <td>0.226757</td>\n",
       "      <td>6.140468</td>\n",
       "      <td>NaN</td>\n",
       "      <td>5.732201</td>\n",
       "      <td>34.357283</td>\n",
       "      <td>0</td>\n",
       "    </tr>\n",
       "    <tr>\n",
       "      <th>12525</th>\n",
       "      <td>116.031250</td>\n",
       "      <td>43.213846</td>\n",
       "      <td>0.663456</td>\n",
       "      <td>0.433088</td>\n",
       "      <td>0.785117</td>\n",
       "      <td>11.628149</td>\n",
       "      <td>17.055215</td>\n",
       "      <td>312.204325</td>\n",
       "      <td>0</td>\n",
       "    </tr>\n",
       "    <tr>\n",
       "      <th>12526</th>\n",
       "      <td>135.664062</td>\n",
       "      <td>49.933749</td>\n",
       "      <td>-0.089940</td>\n",
       "      <td>-0.226726</td>\n",
       "      <td>3.859532</td>\n",
       "      <td>21.501505</td>\n",
       "      <td>7.398395</td>\n",
       "      <td>62.334018</td>\n",
       "      <td>0</td>\n",
       "    </tr>\n",
       "    <tr>\n",
       "      <th>12527</th>\n",
       "      <td>120.726562</td>\n",
       "      <td>50.472256</td>\n",
       "      <td>0.346178</td>\n",
       "      <td>0.184797</td>\n",
       "      <td>0.769231</td>\n",
       "      <td>11.792603</td>\n",
       "      <td>17.662222</td>\n",
       "      <td>329.548016</td>\n",
       "      <td>0</td>\n",
       "    </tr>\n",
       "  </tbody>\n",
       "</table>\n",
       "<p>12528 rows × 9 columns</p>\n",
       "</div>"
      ],
      "text/plain": [
       "          IP Mean      IP Sd  IP Kurtosis  IP Skewness  DM-SNR Mean  \\\n",
       "0      121.156250  48.372971     0.375485    -0.013165     3.168896   \n",
       "1       76.968750  36.175557     0.712898     3.388719     2.399666   \n",
       "2      130.585938  53.229534     0.133408    -0.297242     2.743311   \n",
       "3      156.398438  48.865942    -0.215989    -0.171294    17.471572   \n",
       "4       84.804688  36.117659     0.825013     3.274125     2.790134   \n",
       "...           ...        ...          ...          ...          ...   \n",
       "12523  124.312500  53.179053    -0.012418    -0.556021     7.186455   \n",
       "12524  115.617188  46.784600     0.218177     0.226757     6.140468   \n",
       "12525  116.031250  43.213846     0.663456     0.433088     0.785117   \n",
       "12526  135.664062  49.933749    -0.089940    -0.226726     3.859532   \n",
       "12527  120.726562  50.472256     0.346178     0.184797     0.769231   \n",
       "\n",
       "       DM-SNR Sd  DM-SNR Kurtosis  DM-SNR Skewness  target_class  \n",
       "0      18.399367         7.449874        65.159298             0  \n",
       "1      17.570997         9.414652       102.722975             0  \n",
       "2      22.362553         8.508364        74.031324             0  \n",
       "3            NaN         2.958066         7.197842             0  \n",
       "4      20.618009         8.405008        76.291128             0  \n",
       "...          ...              ...              ...           ...  \n",
       "12523  29.308266         4.531382        21.725143             0  \n",
       "12524        NaN         5.732201        34.357283             0  \n",
       "12525  11.628149        17.055215       312.204325             0  \n",
       "12526  21.501505         7.398395        62.334018             0  \n",
       "12527  11.792603        17.662222       329.548016             0  \n",
       "\n",
       "[12528 rows x 9 columns]"
      ]
     },
     "execution_count": 191,
     "metadata": {},
     "output_type": "execute_result"
    }
   ],
   "source": [
    "datatrain"
   ]
  },
  {
   "cell_type": "code",
   "execution_count": 192,
   "metadata": {},
   "outputs": [
    {
     "data": {
      "text/plain": [
       "IP Mean               0\n",
       "IP Sd                 0\n",
       "IP Kurtosis        1735\n",
       "IP Skewness           0\n",
       "DM-SNR Mean           0\n",
       "DM-SNR Sd          1178\n",
       "DM-SNR Kurtosis       0\n",
       "DM-SNR Skewness     625\n",
       "target_class          0\n",
       "dtype: int64"
      ]
     },
     "execution_count": 192,
     "metadata": {},
     "output_type": "execute_result"
    }
   ],
   "source": [
    "datatrain.isnull().sum()"
   ]
  },
  {
   "cell_type": "code",
   "execution_count": 193,
   "metadata": {},
   "outputs": [],
   "source": [
    "datatrain.dropna(inplace=True)"
   ]
  },
  {
   "cell_type": "code",
   "execution_count": 194,
   "metadata": {},
   "outputs": [
    {
     "data": {
      "text/html": [
       "<div>\n",
       "<style scoped>\n",
       "    .dataframe tbody tr th:only-of-type {\n",
       "        vertical-align: middle;\n",
       "    }\n",
       "\n",
       "    .dataframe tbody tr th {\n",
       "        vertical-align: top;\n",
       "    }\n",
       "\n",
       "    .dataframe thead th {\n",
       "        text-align: right;\n",
       "    }\n",
       "</style>\n",
       "<table border=\"1\" class=\"dataframe\">\n",
       "  <thead>\n",
       "    <tr style=\"text-align: right;\">\n",
       "      <th></th>\n",
       "      <th>IP Mean</th>\n",
       "      <th>IP Sd</th>\n",
       "      <th>IP Kurtosis</th>\n",
       "      <th>IP Skewness</th>\n",
       "      <th>DM-SNR Mean</th>\n",
       "      <th>DM-SNR Sd</th>\n",
       "      <th>DM-SNR Kurtosis</th>\n",
       "      <th>DM-SNR Skewness</th>\n",
       "      <th>target_class</th>\n",
       "    </tr>\n",
       "  </thead>\n",
       "  <tbody>\n",
       "    <tr>\n",
       "      <th>count</th>\n",
       "      <td>9273.00</td>\n",
       "      <td>9273.00</td>\n",
       "      <td>9273.00</td>\n",
       "      <td>9273.00</td>\n",
       "      <td>9273.00</td>\n",
       "      <td>9273.00</td>\n",
       "      <td>9273.00</td>\n",
       "      <td>9273.00</td>\n",
       "      <td>9273.00</td>\n",
       "    </tr>\n",
       "    <tr>\n",
       "      <th>mean</th>\n",
       "      <td>111.13</td>\n",
       "      <td>46.51</td>\n",
       "      <td>0.48</td>\n",
       "      <td>1.79</td>\n",
       "      <td>12.74</td>\n",
       "      <td>26.33</td>\n",
       "      <td>8.33</td>\n",
       "      <td>105.78</td>\n",
       "      <td>0.09</td>\n",
       "    </tr>\n",
       "    <tr>\n",
       "      <th>std</th>\n",
       "      <td>25.69</td>\n",
       "      <td>6.78</td>\n",
       "      <td>1.07</td>\n",
       "      <td>6.29</td>\n",
       "      <td>29.77</td>\n",
       "      <td>19.54</td>\n",
       "      <td>4.55</td>\n",
       "      <td>108.17</td>\n",
       "      <td>0.29</td>\n",
       "    </tr>\n",
       "    <tr>\n",
       "      <th>min</th>\n",
       "      <td>6.19</td>\n",
       "      <td>24.77</td>\n",
       "      <td>-1.74</td>\n",
       "      <td>-1.79</td>\n",
       "      <td>0.21</td>\n",
       "      <td>7.37</td>\n",
       "      <td>-2.64</td>\n",
       "      <td>-1.98</td>\n",
       "      <td>0.00</td>\n",
       "    </tr>\n",
       "    <tr>\n",
       "      <th>25%</th>\n",
       "      <td>100.98</td>\n",
       "      <td>42.40</td>\n",
       "      <td>0.02</td>\n",
       "      <td>-0.19</td>\n",
       "      <td>1.91</td>\n",
       "      <td>14.38</td>\n",
       "      <td>5.79</td>\n",
       "      <td>34.92</td>\n",
       "      <td>0.00</td>\n",
       "    </tr>\n",
       "    <tr>\n",
       "      <th>50%</th>\n",
       "      <td>115.23</td>\n",
       "      <td>46.90</td>\n",
       "      <td>0.22</td>\n",
       "      <td>0.20</td>\n",
       "      <td>2.80</td>\n",
       "      <td>18.44</td>\n",
       "      <td>8.43</td>\n",
       "      <td>83.15</td>\n",
       "      <td>0.00</td>\n",
       "    </tr>\n",
       "    <tr>\n",
       "      <th>75%</th>\n",
       "      <td>127.33</td>\n",
       "      <td>51.00</td>\n",
       "      <td>0.47</td>\n",
       "      <td>0.93</td>\n",
       "      <td>5.46</td>\n",
       "      <td>28.39</td>\n",
       "      <td>10.72</td>\n",
       "      <td>139.77</td>\n",
       "      <td>0.00</td>\n",
       "    </tr>\n",
       "    <tr>\n",
       "      <th>max</th>\n",
       "      <td>189.73</td>\n",
       "      <td>91.81</td>\n",
       "      <td>8.07</td>\n",
       "      <td>68.10</td>\n",
       "      <td>211.95</td>\n",
       "      <td>110.64</td>\n",
       "      <td>34.54</td>\n",
       "      <td>1191.00</td>\n",
       "      <td>1.00</td>\n",
       "    </tr>\n",
       "  </tbody>\n",
       "</table>\n",
       "</div>"
      ],
      "text/plain": [
       "       IP Mean    IP Sd  IP Kurtosis  IP Skewness  DM-SNR Mean  DM-SNR Sd  \\\n",
       "count  9273.00  9273.00      9273.00      9273.00      9273.00    9273.00   \n",
       "mean    111.13    46.51         0.48         1.79        12.74      26.33   \n",
       "std      25.69     6.78         1.07         6.29        29.77      19.54   \n",
       "min       6.19    24.77        -1.74        -1.79         0.21       7.37   \n",
       "25%     100.98    42.40         0.02        -0.19         1.91      14.38   \n",
       "50%     115.23    46.90         0.22         0.20         2.80      18.44   \n",
       "75%     127.33    51.00         0.47         0.93         5.46      28.39   \n",
       "max     189.73    91.81         8.07        68.10       211.95     110.64   \n",
       "\n",
       "       DM-SNR Kurtosis  DM-SNR Skewness  target_class  \n",
       "count          9273.00          9273.00       9273.00  \n",
       "mean              8.33           105.78          0.09  \n",
       "std               4.55           108.17          0.29  \n",
       "min              -2.64            -1.98          0.00  \n",
       "25%               5.79            34.92          0.00  \n",
       "50%               8.43            83.15          0.00  \n",
       "75%              10.72           139.77          0.00  \n",
       "max              34.54          1191.00          1.00  "
      ]
     },
     "execution_count": 194,
     "metadata": {},
     "output_type": "execute_result"
    }
   ],
   "source": [
    "round(datatrain.describe(), 2)"
   ]
  },
  {
   "cell_type": "code",
   "execution_count": 195,
   "metadata": {},
   "outputs": [
    {
     "data": {
      "text/plain": [
       "Text(0, 0.5, 'DM-SNR Skewness')"
      ]
     },
     "execution_count": 195,
     "metadata": {},
     "output_type": "execute_result"
    },
    {
     "data": {
      "image/png": "[encoded data removed]",
      "text/plain": [
       "<Figure size 1728x1440 with 8 Axes>"
      ]
     },
     "metadata": {
      "needs_background": "light"
     },
     "output_type": "display_data"
    }
   ],
   "source": [
    "plt.figure(figsize=(24,20))\n",
    "\n",
    "\n",
    "plt.subplot(4, 2, 1)\n",
    "fig = datatrain.boxplot(column='IP Mean')\n",
    "fig.set_title('')\n",
    "fig.set_ylabel('IP Mean')\n",
    "\n",
    "\n",
    "plt.subplot(4, 2, 2)\n",
    "fig = datatrain.boxplot(column='IP Sd')\n",
    "fig.set_title('')\n",
    "fig.set_ylabel('IP Sd')\n",
    "\n",
    "\n",
    "plt.subplot(4, 2, 3)\n",
    "fig = datatrain.boxplot(column='IP Kurtosis')\n",
    "fig.set_title('')\n",
    "fig.set_ylabel('IP Kurtosis')\n",
    "\n",
    "\n",
    "plt.subplot(4, 2, 4)\n",
    "fig = datatrain.boxplot(column='IP Skewness')\n",
    "fig.set_title('')\n",
    "fig.set_ylabel('IP Skewness')\n",
    "\n",
    "\n",
    "plt.subplot(4, 2, 5)\n",
    "fig = datatrain.boxplot(column='DM-SNR Mean')\n",
    "fig.set_title('')\n",
    "fig.set_ylabel('DM-SNR Mean')\n",
    "\n",
    "\n",
    "plt.subplot(4, 2, 6)\n",
    "fig = datatrain.boxplot(column='DM-SNR Sd')\n",
    "fig.set_title('')\n",
    "fig.set_ylabel('DM-SNR Sd')\n",
    "\n",
    "\n",
    "plt.subplot(4, 2, 7)\n",
    "fig = datatrain.boxplot(column='DM-SNR Kurtosis')\n",
    "fig.set_title('')\n",
    "fig.set_ylabel('DM-SNR Kurtosis')\n",
    "\n",
    "\n",
    "plt.subplot(4, 2, 8)\n",
    "fig = datatrain.boxplot(column='DM-SNR Skewness')\n",
    "fig.set_title('')\n",
    "fig.set_ylabel('DM-SNR Skewness')"
   ]
  },
  {
   "cell_type": "code",
   "execution_count": 196,
   "metadata": {},
   "outputs": [
    {
     "data": {
      "text/plain": [
       "Text(0, 0.5, 'Number of pulsar stars')"
      ]
     },
     "execution_count": 196,
     "metadata": {},
     "output_type": "execute_result"
    },
    {
     "data": {
      "image/png": "[encoded data removed]",
      "text/plain": [
       "<Figure size 1728x1440 with 8 Axes>"
      ]
     },
     "metadata": {
      "needs_background": "light"
     },
     "output_type": "display_data"
    }
   ],
   "source": [
    "plt.figure(figsize=(24,20))\n",
    "\n",
    "\n",
    "plt.subplot(4, 2, 1)\n",
    "fig = datatrain['IP Mean'].hist(bins=20)\n",
    "fig.set_xlabel('IP Mean')\n",
    "fig.set_ylabel('Number of pulsar stars')\n",
    "\n",
    "\n",
    "plt.subplot(4, 2, 2)\n",
    "fig = datatrain['IP Sd'].hist(bins=20)\n",
    "fig.set_xlabel('IP Sd')\n",
    "fig.set_ylabel('Number of pulsar stars')\n",
    "\n",
    "\n",
    "plt.subplot(4, 2, 3)\n",
    "fig = datatrain['IP Kurtosis'].hist(bins=20)\n",
    "fig.set_xlabel('IP Kurtosis')\n",
    "fig.set_ylabel('Number of pulsar stars')\n",
    "\n",
    "\n",
    "\n",
    "plt.subplot(4, 2, 4)\n",
    "fig = datatrain['IP Skewness'].hist(bins=20)\n",
    "fig.set_xlabel('IP Skewness')\n",
    "fig.set_ylabel('Number of pulsar stars')\n",
    "\n",
    "\n",
    "\n",
    "plt.subplot(4, 2, 5)\n",
    "fig = datatrain['DM-SNR Mean'].hist(bins=20)\n",
    "fig.set_xlabel('DM-SNR Mean')\n",
    "fig.set_ylabel('Number of pulsar stars')\n",
    "\n",
    "\n",
    "\n",
    "plt.subplot(4, 2, 6)\n",
    "fig = datatrain['DM-SNR Sd'].hist(bins=20)\n",
    "fig.set_xlabel('DM-SNR Sd')\n",
    "fig.set_ylabel('Number of pulsar stars')\n",
    "\n",
    "\n",
    "\n",
    "plt.subplot(4, 2, 7)\n",
    "fig = datatrain['DM-SNR Kurtosis'].hist(bins=20)\n",
    "fig.set_xlabel('DM-SNR Kurtosis')\n",
    "fig.set_ylabel('Number of pulsar stars')\n",
    "\n",
    "\n",
    "plt.subplot(4, 2, 8)\n",
    "fig = datatrain['DM-SNR Skewness'].hist(bins=20)\n",
    "fig.set_xlabel('DM-SNR Skewness')\n",
    "fig.set_ylabel('Number of pulsar stars')"
   ]
  },
  {
   "cell_type": "code",
   "execution_count": 197,
   "metadata": {},
   "outputs": [],
   "source": [
    "X = datatrain.drop(['target_class'], axis = 1)\n",
    "y = datatrain['target_class']"
   ]
  },
  {
   "cell_type": "code",
   "execution_count": 198,
   "metadata": {},
   "outputs": [
    {
     "data": {
      "text/plain": [
       "((7418, 8), (1855, 8))"
      ]
     },
     "execution_count": 198,
     "metadata": {},
     "output_type": "execute_result"
    }
   ],
   "source": [
    "from sklearn.model_selection import train_test_split\n",
    "X_train, X_test, y_train, y_test = train_test_split(X, y, test_size = 0.2, random_state = 0, stratify = y)\n",
    "X_train.shape, X_test.shape\n"
   ]
  },
  {
   "cell_type": "code",
   "execution_count": 199,
   "metadata": {},
   "outputs": [],
   "source": [
    "cols = X_train.columns"
   ]
  },
  {
   "cell_type": "code",
   "execution_count": 200,
   "metadata": {},
   "outputs": [],
   "source": [
    "from sklearn.preprocessing import StandardScaler\n",
    "Scaler = StandardScaler()\n",
    "X_train = Scaler.fit_transform(X_train)\n",
    "X_test = Scaler.transform(X_test)"
   ]
  },
  {
   "cell_type": "code",
   "execution_count": 201,
   "metadata": {},
   "outputs": [
    {
     "data": {
      "text/html": [
       "<div>\n",
       "<style scoped>\n",
       "    .dataframe tbody tr th:only-of-type {\n",
       "        vertical-align: middle;\n",
       "    }\n",
       "\n",
       "    .dataframe tbody tr th {\n",
       "        vertical-align: top;\n",
       "    }\n",
       "\n",
       "    .dataframe thead tr th {\n",
       "        text-align: left;\n",
       "    }\n",
       "</style>\n",
       "<table border=\"1\" class=\"dataframe\">\n",
       "  <thead>\n",
       "    <tr>\n",
       "      <th></th>\n",
       "      <th>IP Mean</th>\n",
       "      <th>IP Sd</th>\n",
       "      <th>IP Kurtosis</th>\n",
       "      <th>IP Skewness</th>\n",
       "      <th>DM-SNR Mean</th>\n",
       "      <th>DM-SNR Sd</th>\n",
       "      <th>DM-SNR Kurtosis</th>\n",
       "      <th>DM-SNR Skewness</th>\n",
       "    </tr>\n",
       "  </thead>\n",
       "  <tbody>\n",
       "    <tr>\n",
       "      <th>count</th>\n",
       "      <td>7.418000e+03</td>\n",
       "      <td>7.418000e+03</td>\n",
       "      <td>7.418000e+03</td>\n",
       "      <td>7.418000e+03</td>\n",
       "      <td>7.418000e+03</td>\n",
       "      <td>7.418000e+03</td>\n",
       "      <td>7.418000e+03</td>\n",
       "      <td>7.418000e+03</td>\n",
       "    </tr>\n",
       "    <tr>\n",
       "      <th>mean</th>\n",
       "      <td>1.408059e-16</td>\n",
       "      <td>1.024913e-16</td>\n",
       "      <td>-2.250978e-17</td>\n",
       "      <td>2.418604e-17</td>\n",
       "      <td>-1.772046e-17</td>\n",
       "      <td>9.626523e-17</td>\n",
       "      <td>-5.411926e-17</td>\n",
       "      <td>-8.668660e-17</td>\n",
       "    </tr>\n",
       "    <tr>\n",
       "      <th>std</th>\n",
       "      <td>1.000067e+00</td>\n",
       "      <td>1.000067e+00</td>\n",
       "      <td>1.000067e+00</td>\n",
       "      <td>1.000067e+00</td>\n",
       "      <td>1.000067e+00</td>\n",
       "      <td>1.000067e+00</td>\n",
       "      <td>1.000067e+00</td>\n",
       "      <td>1.000067e+00</td>\n",
       "    </tr>\n",
       "    <tr>\n",
       "      <th>min</th>\n",
       "      <td>-4.117922e+00</td>\n",
       "      <td>-3.214084e+00</td>\n",
       "      <td>-2.119994e+00</td>\n",
       "      <td>-5.859699e-01</td>\n",
       "      <td>-4.202192e-01</td>\n",
       "      <td>-9.635423e-01</td>\n",
       "      <td>-2.405446e+00</td>\n",
       "      <td>-9.955590e-01</td>\n",
       "    </tr>\n",
       "    <tr>\n",
       "      <th>25%</th>\n",
       "      <td>-4.030428e-01</td>\n",
       "      <td>-5.992072e-01</td>\n",
       "      <td>-4.280011e-01</td>\n",
       "      <td>-3.177188e-01</td>\n",
       "      <td>-3.636645e-01</td>\n",
       "      <td>-6.087462e-01</td>\n",
       "      <td>-5.558563e-01</td>\n",
       "      <td>-6.532485e-01</td>\n",
       "    </tr>\n",
       "    <tr>\n",
       "      <th>50%</th>\n",
       "      <td>1.590896e-01</td>\n",
       "      <td>5.212008e-02</td>\n",
       "      <td>-2.395417e-01</td>\n",
       "      <td>-2.533034e-01</td>\n",
       "      <td>-3.342566e-01</td>\n",
       "      <td>-4.047139e-01</td>\n",
       "      <td>2.655085e-02</td>\n",
       "      <td>-2.056951e-01</td>\n",
       "    </tr>\n",
       "    <tr>\n",
       "      <th>75%</th>\n",
       "      <td>6.328509e-01</td>\n",
       "      <td>6.536091e-01</td>\n",
       "      <td>9.926860e-04</td>\n",
       "      <td>-1.322405e-01</td>\n",
       "      <td>-2.452304e-01</td>\n",
       "      <td>1.017034e-01</td>\n",
       "      <td>5.223715e-01</td>\n",
       "      <td>3.117604e-01</td>\n",
       "    </tr>\n",
       "    <tr>\n",
       "      <th>max</th>\n",
       "      <td>3.072354e+00</td>\n",
       "      <td>6.690984e+00</td>\n",
       "      <td>7.296759e+00</td>\n",
       "      <td>1.108343e+01</td>\n",
       "      <td>6.648726e+00</td>\n",
       "      <td>4.281865e+00</td>\n",
       "      <td>5.741097e+00</td>\n",
       "      <td>9.987746e+00</td>\n",
       "    </tr>\n",
       "  </tbody>\n",
       "</table>\n",
       "</div>"
      ],
      "text/plain": [
       "            IP Mean         IP Sd   IP Kurtosis   IP Skewness   DM-SNR Mean  \\\n",
       "count  7.418000e+03  7.418000e+03  7.418000e+03  7.418000e+03  7.418000e+03   \n",
       "mean   1.408059e-16  1.024913e-16 -2.250978e-17  2.418604e-17 -1.772046e-17   \n",
       "std    1.000067e+00  1.000067e+00  1.000067e+00  1.000067e+00  1.000067e+00   \n",
       "min   -4.117922e+00 -3.214084e+00 -2.119994e+00 -5.859699e-01 -4.202192e-01   \n",
       "25%   -4.030428e-01 -5.992072e-01 -4.280011e-01 -3.177188e-01 -3.636645e-01   \n",
       "50%    1.590896e-01  5.212008e-02 -2.395417e-01 -2.533034e-01 -3.342566e-01   \n",
       "75%    6.328509e-01  6.536091e-01  9.926860e-04 -1.322405e-01 -2.452304e-01   \n",
       "max    3.072354e+00  6.690984e+00  7.296759e+00  1.108343e+01  6.648726e+00   \n",
       "\n",
       "          DM-SNR Sd DM-SNR Kurtosis DM-SNR Skewness  \n",
       "count  7.418000e+03    7.418000e+03    7.418000e+03  \n",
       "mean   9.626523e-17   -5.411926e-17   -8.668660e-17  \n",
       "std    1.000067e+00    1.000067e+00    1.000067e+00  \n",
       "min   -9.635423e-01   -2.405446e+00   -9.955590e-01  \n",
       "25%   -6.087462e-01   -5.558563e-01   -6.532485e-01  \n",
       "50%   -4.047139e-01    2.655085e-02   -2.056951e-01  \n",
       "75%    1.017034e-01    5.223715e-01    3.117604e-01  \n",
       "max    4.281865e+00    5.741097e+00    9.987746e+00  "
      ]
     },
     "execution_count": 201,
     "metadata": {},
     "output_type": "execute_result"
    }
   ],
   "source": [
    "X_train = pd.DataFrame(X_train, columns = [cols])\n",
    "X_test = pd.DataFrame(X_test, columns = [cols])\n",
    "X_train.describe()"
   ]
  },
  {
   "cell_type": "markdown",
   "metadata": {},
   "source": [
    "MODELLING"
   ]
  },
  {
   "cell_type": "code",
   "execution_count": 202,
   "metadata": {},
   "outputs": [
    {
     "name": "stderr",
     "output_type": "stream",
     "text": [
      "C:\\Users\\Ivanp\\AppData\\Local\\Programs\\Python\\Python39\\lib\\site-packages\\sklearn\\utils\\validation.py:1673: FutureWarning: Feature names only support names that are all strings. Got feature names with dtypes: ['tuple']. An error will be raised in 1.2.\n",
      "  warnings.warn(\n"
     ]
    },
    {
     "name": "stdout",
     "output_type": "stream",
     "text": [
      "Model accuracy score with default hyperparameters: 0.9817\n"
     ]
    },
    {
     "name": "stderr",
     "output_type": "stream",
     "text": [
      "C:\\Users\\Ivanp\\AppData\\Local\\Programs\\Python\\Python39\\lib\\site-packages\\sklearn\\utils\\validation.py:1673: FutureWarning: Feature names only support names that are all strings. Got feature names with dtypes: ['tuple']. An error will be raised in 1.2.\n",
      "  warnings.warn(\n"
     ]
    }
   ],
   "source": [
    "from sklearn.svm import SVC\n",
    "from sklearn.metrics import accuracy_score\n",
    "\n",
    "svc = SVC()\n",
    "svc.fit(X_train, y_train)\n",
    "y_preds = svc.predict(X_test)\n",
    "\n",
    "print('Model accuracy score with default hyperparameters: {0:0.4f}'. format(accuracy_score(y_test, y_preds)))"
   ]
  },
  {
   "cell_type": "markdown",
   "metadata": {},
   "source": [
    "TUNNING GUYS"
   ]
  },
  {
   "cell_type": "code",
   "execution_count": 203,
   "metadata": {},
   "outputs": [
    {
     "name": "stderr",
     "output_type": "stream",
     "text": [
      "C:\\Users\\Ivanp\\AppData\\Local\\Programs\\Python\\Python39\\lib\\site-packages\\sklearn\\utils\\validation.py:1673: FutureWarning: Feature names only support names that are all strings. Got feature names with dtypes: ['tuple']. An error will be raised in 1.2.\n",
      "  warnings.warn(\n"
     ]
    },
    {
     "name": "stdout",
     "output_type": "stream",
     "text": [
      "Model accuracy score with default hyperparameters: 0.9817\n"
     ]
    },
    {
     "name": "stderr",
     "output_type": "stream",
     "text": [
      "C:\\Users\\Ivanp\\AppData\\Local\\Programs\\Python\\Python39\\lib\\site-packages\\sklearn\\utils\\validation.py:1673: FutureWarning: Feature names only support names that are all strings. Got feature names with dtypes: ['tuple']. An error will be raised in 1.2.\n",
      "  warnings.warn(\n"
     ]
    }
   ],
   "source": [
    "svc = SVC(C=1.0, kernel = 'linear', gamma= 0.5)\n",
    "svc.fit(X_train, y_train)\n",
    "y_preds = svc.predict(X_test)\n",
    "\n",
    "print('Model accuracy score with default hyperparameters: {0:0.4f}'. format(accuracy_score(y_test, y_preds)))"
   ]
  },
  {
   "cell_type": "markdown",
   "metadata": {},
   "source": [
    "CHECKING SCORE"
   ]
  },
  {
   "cell_type": "code",
   "execution_count": 204,
   "metadata": {},
   "outputs": [
    {
     "name": "stderr",
     "output_type": "stream",
     "text": [
      "C:\\Users\\Ivanp\\AppData\\Local\\Programs\\Python\\Python39\\lib\\site-packages\\sklearn\\utils\\validation.py:1673: FutureWarning: Feature names only support names that are all strings. Got feature names with dtypes: ['tuple']. An error will be raised in 1.2.\n",
      "  warnings.warn(\n"
     ]
    },
    {
     "data": {
      "text/plain": [
       "array([1, 0, 0, ..., 0, 0, 0], dtype=int64)"
      ]
     },
     "execution_count": 204,
     "metadata": {},
     "output_type": "execute_result"
    }
   ],
   "source": [
    "y_preds_train = svc.predict(X_train)\n",
    "y_preds_train"
   ]
  },
  {
   "cell_type": "code",
   "execution_count": 205,
   "metadata": {},
   "outputs": [
    {
     "name": "stderr",
     "output_type": "stream",
     "text": [
      "C:\\Users\\Ivanp\\AppData\\Local\\Programs\\Python\\Python39\\lib\\site-packages\\sklearn\\utils\\validation.py:1673: FutureWarning: Feature names only support names that are all strings. Got feature names with dtypes: ['tuple']. An error will be raised in 1.2.\n",
      "  warnings.warn(\n"
     ]
    },
    {
     "data": {
      "text/plain": [
       "array([1, 0, 0, ..., 0, 0, 0], dtype=int64)"
      ]
     },
     "execution_count": 205,
     "metadata": {},
     "output_type": "execute_result"
    }
   ],
   "source": [
    "y_preds_test = svc.predict(X_test)\n",
    "y_preds_test\n"
   ]
  },
  {
   "cell_type": "code",
   "execution_count": 206,
   "metadata": {},
   "outputs": [
    {
     "name": "stdout",
     "output_type": "stream",
     "text": [
      "Training-set accuracy score: 0.9780\n"
     ]
    }
   ],
   "source": [
    "print('Training-set accuracy score: {0:0.4f}'. format(accuracy_score(y_train, y_preds_train)))"
   ]
  },
  {
   "cell_type": "code",
   "execution_count": 207,
   "metadata": {},
   "outputs": [
    {
     "name": "stderr",
     "output_type": "stream",
     "text": [
      "C:\\Users\\Ivanp\\AppData\\Local\\Programs\\Python\\Python39\\lib\\site-packages\\sklearn\\utils\\validation.py:1673: FutureWarning: Feature names only support names that are all strings. Got feature names with dtypes: ['tuple']. An error will be raised in 1.2.\n",
      "  warnings.warn(\n"
     ]
    },
    {
     "name": "stdout",
     "output_type": "stream",
     "text": [
      "Training set score: 0.9780\n",
      "Test set score: 0.9817\n"
     ]
    },
    {
     "name": "stderr",
     "output_type": "stream",
     "text": [
      "C:\\Users\\Ivanp\\AppData\\Local\\Programs\\Python\\Python39\\lib\\site-packages\\sklearn\\utils\\validation.py:1673: FutureWarning: Feature names only support names that are all strings. Got feature names with dtypes: ['tuple']. An error will be raised in 1.2.\n",
      "  warnings.warn(\n"
     ]
    }
   ],
   "source": [
    "\n",
    "print('Training set score: {:.4f}'.format(svc.score(X_train, y_train)))\n",
    "\n",
    "print('Test set score: {:.4f}'.format(svc.score(X_test, y_test)))"
   ]
  },
  {
   "cell_type": "code",
   "execution_count": 208,
   "metadata": {},
   "outputs": [
    {
     "name": "stdout",
     "output_type": "stream",
     "text": [
      "Confusion matrix\n",
      "\n",
      " [[1678    7]\n",
      " [  27  143]]\n",
      "\n",
      "True Positives(TP) =  1678\n",
      "\n",
      "True Negatives(TN) =  143\n",
      "\n",
      "False Positives(FP) =  7\n",
      "\n",
      "False Negatives(FN) =  27\n"
     ]
    }
   ],
   "source": [
    "\n",
    "from sklearn.metrics import confusion_matrix\n",
    "\n",
    "cm = confusion_matrix(y_test, y_preds_test)\n",
    "\n",
    "print('Confusion matrix\\n\\n', cm)\n",
    "\n",
    "print('\\nTrue Positives(TP) = ', cm[0,0])\n",
    "\n",
    "print('\\nTrue Negatives(TN) = ', cm[1,1])\n",
    "\n",
    "print('\\nFalse Positives(FP) = ', cm[0,1])\n",
    "\n",
    "print('\\nFalse Negatives(FN) = ', cm[1,0])"
   ]
  },
  {
   "cell_type": "code",
   "execution_count": 209,
   "metadata": {},
   "outputs": [
    {
     "data": {
      "text/plain": [
       "<AxesSubplot:>"
      ]
     },
     "execution_count": 209,
     "metadata": {},
     "output_type": "execute_result"
    },
    {
     "data": {
      "image/png": "[encoded data removed]",
      "text/plain": [
       "<Figure size 432x288 with 2 Axes>"
      ]
     },
     "metadata": {
      "needs_background": "light"
     },
     "output_type": "display_data"
    }
   ],
   "source": [
    "cm_matrix = pd.DataFrame(data=cm, columns=['Actual Positive:1', 'Actual Negative:0'], \n",
    "                                 index=['Predict Positive:1', 'Predict Negative:0'])\n",
    "\n",
    "sns.heatmap(cm_matrix, annot=True, fmt='d', cmap='YlGnBu')"
   ]
  },
  {
   "cell_type": "code",
   "execution_count": 210,
   "metadata": {},
   "outputs": [
    {
     "name": "stdout",
     "output_type": "stream",
     "text": [
      "              precision    recall  f1-score   support\n",
      "\n",
      "           0       0.98      1.00      0.99      1685\n",
      "           1       0.95      0.84      0.89       170\n",
      "\n",
      "    accuracy                           0.98      1855\n",
      "   macro avg       0.97      0.92      0.94      1855\n",
      "weighted avg       0.98      0.98      0.98      1855\n",
      "\n"
     ]
    }
   ],
   "source": [
    "from sklearn.metrics import classification_report\n",
    "\n",
    "print(classification_report(y_test, y_preds_test))"
   ]
  }
 ],
 "metadata": {
  "interpreter": {
   "hash": "ae169362561cf889d05a923bcb215de0d322d04dca018270899b0e38fb538a0f"
  },
  "kernelspec": {
   "display_name": "Python 3.9.0 64-bit",
   "language": "python",
   "name": "python3"
  },
  "language_info": {
   "codemirror_mode": {
    "name": "ipython",
    "version": 3
   },
   "file_extension": ".py",
   "mimetype": "text/x-python",
   "name": "python",
   "nbconvert_exporter": "python",
   "pygments_lexer": "ipython3",
   "version": "3.9.0"
  },
  "orig_nbformat": 4
 },
 "nbformat": 4,
 "nbformat_minor": 2
}
