{
  "nbformat": 4,
  "nbformat_minor": 0,
  "metadata": {
    "colab": {
      "name": "mnist handwritten.ipynb",
      "provenance": [],
      "collapsed_sections": [],
      "authorship_tag": "ABX9TyOqEhlwTebhhQrkvZckVqBD",
      "include_colab_link": true
    },
    "kernelspec": {
      "name": "python3",
      "display_name": "Python 3"
    },
    "language_info": {
      "name": "python"
    },
    "accelerator": "GPU"
  },
  "cells": [
    {
      "cell_type": "markdown",
      "metadata": {
        "id": "view-in-github",
        "colab_type": "text"
      },
      "source": [
        "<a href=\"https://colab.research.google.com/github/Ivansatriop/Machine-Learning/blob/main/mnist_handwritten.ipynb\" target=\"_parent\"><img src=\"https://colab.research.google.com/assets/colab-badge.svg\" alt=\"Open In Colab\"/></a>"
      ]
    },
    {
      "cell_type": "code",
      "execution_count": null,
      "metadata": {
        "id": "O62JqPCv5YGI"
      },
      "outputs": [],
      "source": [
        "import pandas as pd\n",
        "import numpy as np\n",
        "import matplotlib.pyplot as plt\n",
        "import torch\n",
        "import torchvision\n",
        "import torch.nn as nn\n",
        "import torch.nn.functional as F\n",
        "import torch.optim as optim"
      ]
    },
    {
      "cell_type": "markdown",
      "source": [
        "##PREPARING DATASETS"
      ],
      "metadata": {
        "id": "5mnfmwlJ9Mdh"
      }
    },
    {
      "cell_type": "markdown",
      "source": [
        "Splitting datasets"
      ],
      "metadata": {
        "id": "i2kjg5co_gyg"
      }
    },
    {
      "cell_type": "code",
      "source": [
        "train_loader = torch.utils.data.DataLoader(\n",
        "  torchvision.datasets.MNIST('/files/', train=True, download=True,\n",
        "                             transform=torchvision.transforms.Compose([\n",
        "                               torchvision.transforms.ToTensor(),\n",
        "                               torchvision.transforms.Normalize(\n",
        "                                 (0.1307,), (0.3081,))\n",
        "                             ])),\n",
        "  batch_size=batch_size_train, shuffle=True)\n",
        "\n",
        "test_loader = torch.utils.data.DataLoader(\n",
        "  torchvision.datasets.MNIST('/files/', train=False, download=True,\n",
        "                             transform=torchvision.transforms.Compose([\n",
        "                               torchvision.transforms.ToTensor(),\n",
        "                               torchvision.transforms.Normalize(\n",
        "                                 (0.1307,), (0.3081,))\n",
        "                             ])),\n",
        "  batch_size=batch_size_test, shuffle=True)"
      ],
      "metadata": {
        "id": "Qch1hSo0-_lI"
      },
      "execution_count": null,
      "outputs": []
    },
    {
      "cell_type": "code",
      "source": [
        "examples = enumerate(test_loader)\n",
        "batch_idx, (example_data, example_targets) = next(examples)\n",
        "example_data.shape"
      ],
      "metadata": {
        "colab": {
          "base_uri": "https://localhost:8080/"
        },
        "id": "ZyY_i6Rd_lQC",
        "outputId": "3af198d1-ddf7-49a1-9c9c-3dee0570b26a"
      },
      "execution_count": null,
      "outputs": [
        {
          "output_type": "execute_result",
          "data": {
            "text/plain": [
              "torch.Size([1000, 1, 28, 28])"
            ]
          },
          "metadata": {},
          "execution_count": 31
        }
      ]
    },
    {
      "cell_type": "markdown",
      "source": [
        "PLOTTING"
      ],
      "metadata": {
        "id": "LDQ4TyB0_ywj"
      }
    },
    {
      "cell_type": "code",
      "source": [
        "fig = plt.figure()\n",
        "for i in range(6):\n",
        "  plt.subplot(2,3,i+1)\n",
        "  plt.tight_layout()\n",
        "  plt.imshow(example_data[i][0], cmap='gray', interpolation='none')\n",
        "  plt.title(\"Ground Truth: {}\".format(example_targets[i]))\n",
        "  plt.xticks([])\n",
        "  plt.yticks([])\n",
        "fig"
      ],
      "metadata": {
        "colab": {
          "base_uri": "https://localhost:8080/",
          "height": 551
        },
        "id": "6v7awgu6_yM5",
        "outputId": "54318795-3bfe-48a7-ab8c-d5df78de238c"
      },
      "execution_count": null,
      "outputs": [
        {
          "output_type": "execute_result",
          "data": {
            "image/png": "[encoded data removed]",
            "text/plain": [
              "<Figure size 432x288 with 6 Axes>"
            ]
          },
          "metadata": {},
          "execution_count": 32
        },
        {
          "output_type": "display_data",
          "data": {
            "image/png": "[encoded data removed]",
            "text/plain": [
              "<Figure size 432x288 with 6 Axes>"
            ]
          },
          "metadata": {}
        }
      ]
    },
    {
      "cell_type": "code",
      "source": [
        "class Net(nn.Module):\n",
        "    def __init__(self):\n",
        "        super(Net, self).__init__()\n",
        "        self.conv1 = nn.Conv2d(1, 32, kernel_size=5, padding = 2) # input=28x28, \n",
        "        # conv = 24x24, padding = 26x26, pooling = 13x13  \n",
        "        self.conv2 = nn.Conv2d(32, 128, kernel_size=3, padding = 1) \n",
        "        # input = 13x13, conv = 11x11, padding = 12x12, pooling = 6x6 \n",
        "        # input pixel 28x28, conv = input pixel - kernel, padding = conv + padding, pooling = padding/jumlah pooling\n",
        "        self.conv2_drop = nn.Dropout2d()\n",
        "        self.fc1 = nn.Linear(6272, 256) #Dense layer\n",
        "        self.fc2 = nn.Linear(256, 10)  #Dense Layer\n",
        "\n",
        "    def forward(self, x):\n",
        "        x = F.relu(F.max_pool2d(self.conv1(x), 2))\n",
        "        x = F.relu(F.max_pool2d(self.conv2_drop(self.conv2(x)), 2))\n",
        "        x = x.view(-1, 6272)\n",
        "        x = F.relu(self.fc1(x))\n",
        "        x = F.dropout(x, training=self.training)\n",
        "        x = self.fc2(x)\n",
        "        return F.log_softmax(x)"
      ],
      "metadata": {
        "id": "Jh8Jx2diAgvV"
      },
      "execution_count": null,
      "outputs": []
    },
    {
      "cell_type": "code",
      "source": [
        "n_epochs = 4\n",
        "batch_size_train = 64\n",
        "batch_size_test = 1000\n",
        "learning_rate = 0.0001\n",
        "momentum = 0.5 \n",
        "log_interval = 10"
      ],
      "metadata": {
        "id": "jrg1Ikc7Ktxg"
      },
      "execution_count": null,
      "outputs": []
    },
    {
      "cell_type": "code",
      "source": [
        "network = Net()\n",
        "optimizer = optim.RMSprop(network.parameters(), lr=learning_rate, momentum = momentum)"
      ],
      "metadata": {
        "id": "oXQj150yBJ4v"
      },
      "execution_count": null,
      "outputs": []
    },
    {
      "cell_type": "markdown",
      "source": [
        "#TRAINING MODEL"
      ],
      "metadata": {
        "id": "SkpiyESPBZna"
      }
    },
    {
      "cell_type": "code",
      "source": [
        "train_losses = []\n",
        "train_counter = []\n",
        "test_losses = []\n",
        "test_counter = [i*len(train_loader.dataset) for i in range(n_epochs + 1)]"
      ],
      "metadata": {
        "id": "JVEB4RR5BZEW"
      },
      "execution_count": null,
      "outputs": []
    },
    {
      "cell_type": "code",
      "source": [
        "def train(epoch):\n",
        "  network.train()\n",
        "  for batch_idx, (data, target) in enumerate(train_loader):\n",
        "    optimizer.zero_grad()\n",
        "    output = network(data)\n",
        "    loss = F.nll_loss(output, target)\n",
        "    loss.backward()\n",
        "    optimizer.step()\n",
        "    if batch_idx % log_interval == 0:\n",
        "      print('Train Epoch: {} [{}/{} ({:.0f}%)]\\tLoss: {:.6f}'.format(\n",
        "        epoch, batch_idx * len(data), len(train_loader.dataset),\n",
        "        100. * batch_idx / len(train_loader), loss.item()))\n",
        "      train_losses.append(loss.item())\n",
        "      train_counter.append(\n",
        "        (batch_idx*64) + ((epoch-1)*len(train_loader.dataset)))"
      ],
      "metadata": {
        "id": "tL0BPTEPBfew"
      },
      "execution_count": null,
      "outputs": []
    },
    {
      "cell_type": "code",
      "source": [
        "def test():\n",
        "  network.eval()\n",
        "  test_loss = 0\n",
        "  correct = 0\n",
        "  with torch.no_grad():\n",
        "    for data, target in test_loader:\n",
        "      output = network(data)\n",
        "      test_loss += F.nll_loss(output, target, size_average=False).item()\n",
        "      pred = output.data.max(1, keepdim=True)[1]\n",
        "      correct += pred.eq(target.data.view_as(pred)).sum()\n",
        "  test_loss /= len(test_loader.dataset)\n",
        "  test_losses.append(test_loss)\n",
        "  print('\\nTest set: Avg. loss: {:.4f}, Accuracy: {}/{} ({:.0f}%)\\n'.format(\n",
        "    test_loss, correct, len(test_loader.dataset),\n",
        "    100. * correct / len(test_loader.dataset)))"
      ],
      "metadata": {
        "id": "MBSfgfjaBnvB"
      },
      "execution_count": null,
      "outputs": []
    },
    {
      "cell_type": "code",
      "source": [
        "test()\n",
        "for epoch in range(1, n_epochs + 1):\n",
        "  train(epoch)\n",
        "  test()"
      ],
      "metadata": {
        "colab": {
          "base_uri": "https://localhost:8080/"
        },
        "id": "hou7lhT-Btb1",
        "outputId": "08012694-e4ad-45ec-f383-1a2b283dd78c"
      },
      "execution_count": null,
      "outputs": [
        {
          "output_type": "stream",
          "name": "stderr",
          "text": [
            "/usr/local/lib/python3.7/dist-packages/ipykernel_launcher.py:20: UserWarning: Implicit dimension choice for log_softmax has been deprecated. Change the call to include dim=X as an argument.\n",
            "/usr/local/lib/python3.7/dist-packages/torch/nn/_reduction.py:42: UserWarning: size_average and reduce args will be deprecated, please use reduction='sum' instead.\n",
            "  warnings.warn(warning.format(ret))\n"
          ]
        },
        {
          "output_type": "stream",
          "name": "stdout",
          "text": [
            "\n",
            "Test set: Avg. loss: 2.3017, Accuracy: 1124/10000 (11%)\n",
            "\n",
            "Train Epoch: 1 [0/60000 (0%)]\tLoss: 2.309173\n",
            "Train Epoch: 1 [640/60000 (1%)]\tLoss: 1.303202\n",
            "Train Epoch: 1 [1280/60000 (2%)]\tLoss: 1.008280\n",
            "Train Epoch: 1 [1920/60000 (3%)]\tLoss: 0.652613\n",
            "Train Epoch: 1 [2560/60000 (4%)]\tLoss: 0.423708\n",
            "Train Epoch: 1 [3200/60000 (5%)]\tLoss: 0.759492\n",
            "Train Epoch: 1 [3840/60000 (6%)]\tLoss: 0.451059\n",
            "Train Epoch: 1 [4480/60000 (7%)]\tLoss: 0.469574\n",
            "Train Epoch: 1 [5120/60000 (9%)]\tLoss: 0.374443\n",
            "Train Epoch: 1 [5760/60000 (10%)]\tLoss: 0.404665\n",
            "Train Epoch: 1 [6400/60000 (11%)]\tLoss: 0.339053\n",
            "Train Epoch: 1 [7040/60000 (12%)]\tLoss: 0.371751\n",
            "Train Epoch: 1 [7680/60000 (13%)]\tLoss: 0.369029\n",
            "Train Epoch: 1 [8320/60000 (14%)]\tLoss: 0.338161\n",
            "Train Epoch: 1 [8960/60000 (15%)]\tLoss: 0.292615\n",
            "Train Epoch: 1 [9600/60000 (16%)]\tLoss: 0.407785\n",
            "Train Epoch: 1 [10240/60000 (17%)]\tLoss: 0.424814\n",
            "Train Epoch: 1 [10880/60000 (18%)]\tLoss: 0.131671\n",
            "Train Epoch: 1 [11520/60000 (19%)]\tLoss: 0.153879\n",
            "Train Epoch: 1 [12160/60000 (20%)]\tLoss: 0.287527\n",
            "Train Epoch: 1 [12800/60000 (21%)]\tLoss: 0.229881\n",
            "Train Epoch: 1 [13440/60000 (22%)]\tLoss: 0.263687\n",
            "Train Epoch: 1 [14080/60000 (23%)]\tLoss: 0.289082\n",
            "Train Epoch: 1 [14720/60000 (25%)]\tLoss: 0.228396\n",
            "Train Epoch: 1 [15360/60000 (26%)]\tLoss: 0.220814\n",
            "Train Epoch: 1 [16000/60000 (27%)]\tLoss: 0.244518\n",
            "Train Epoch: 1 [16640/60000 (28%)]\tLoss: 0.247664\n",
            "Train Epoch: 1 [17280/60000 (29%)]\tLoss: 0.273228\n",
            "Train Epoch: 1 [17920/60000 (30%)]\tLoss: 0.168523\n",
            "Train Epoch: 1 [18560/60000 (31%)]\tLoss: 0.193221\n",
            "Train Epoch: 1 [19200/60000 (32%)]\tLoss: 0.167296\n",
            "Train Epoch: 1 [19840/60000 (33%)]\tLoss: 0.142085\n",
            "Train Epoch: 1 [20480/60000 (34%)]\tLoss: 0.150971\n",
            "Train Epoch: 1 [21120/60000 (35%)]\tLoss: 0.073157\n",
            "Train Epoch: 1 [21760/60000 (36%)]\tLoss: 0.063960\n",
            "Train Epoch: 1 [22400/60000 (37%)]\tLoss: 0.113342\n",
            "Train Epoch: 1 [23040/60000 (38%)]\tLoss: 0.100525\n",
            "Train Epoch: 1 [23680/60000 (39%)]\tLoss: 0.152320\n",
            "Train Epoch: 1 [24320/60000 (41%)]\tLoss: 0.241869\n",
            "Train Epoch: 1 [24960/60000 (42%)]\tLoss: 0.185094\n",
            "Train Epoch: 1 [25600/60000 (43%)]\tLoss: 0.183452\n",
            "Train Epoch: 1 [26240/60000 (44%)]\tLoss: 0.155229\n",
            "Train Epoch: 1 [26880/60000 (45%)]\tLoss: 0.241371\n",
            "Train Epoch: 1 [27520/60000 (46%)]\tLoss: 0.191220\n",
            "Train Epoch: 1 [28160/60000 (47%)]\tLoss: 0.262530\n",
            "Train Epoch: 1 [28800/60000 (48%)]\tLoss: 0.203672\n",
            "Train Epoch: 1 [29440/60000 (49%)]\tLoss: 0.344246\n",
            "Train Epoch: 1 [30080/60000 (50%)]\tLoss: 0.052914\n",
            "Train Epoch: 1 [30720/60000 (51%)]\tLoss: 0.069328\n",
            "Train Epoch: 1 [31360/60000 (52%)]\tLoss: 0.368771\n",
            "Train Epoch: 1 [32000/60000 (53%)]\tLoss: 0.138424\n",
            "Train Epoch: 1 [32640/60000 (54%)]\tLoss: 0.234610\n",
            "Train Epoch: 1 [33280/60000 (55%)]\tLoss: 0.278277\n",
            "Train Epoch: 1 [33920/60000 (57%)]\tLoss: 0.092255\n",
            "Train Epoch: 1 [34560/60000 (58%)]\tLoss: 0.083858\n",
            "Train Epoch: 1 [35200/60000 (59%)]\tLoss: 0.082416\n",
            "Train Epoch: 1 [35840/60000 (60%)]\tLoss: 0.119741\n",
            "Train Epoch: 1 [36480/60000 (61%)]\tLoss: 0.198167\n",
            "Train Epoch: 1 [37120/60000 (62%)]\tLoss: 0.206472\n",
            "Train Epoch: 1 [37760/60000 (63%)]\tLoss: 0.306449\n",
            "Train Epoch: 1 [38400/60000 (64%)]\tLoss: 0.111136\n",
            "Train Epoch: 1 [39040/60000 (65%)]\tLoss: 0.112152\n",
            "Train Epoch: 1 [39680/60000 (66%)]\tLoss: 0.088797\n",
            "Train Epoch: 1 [40320/60000 (67%)]\tLoss: 0.194591\n",
            "Train Epoch: 1 [40960/60000 (68%)]\tLoss: 0.066236\n",
            "Train Epoch: 1 [41600/60000 (69%)]\tLoss: 0.210097\n",
            "Train Epoch: 1 [42240/60000 (70%)]\tLoss: 0.053479\n",
            "Train Epoch: 1 [42880/60000 (71%)]\tLoss: 0.130874\n",
            "Train Epoch: 1 [43520/60000 (72%)]\tLoss: 0.101600\n",
            "Train Epoch: 1 [44160/60000 (74%)]\tLoss: 0.064787\n",
            "Train Epoch: 1 [44800/60000 (75%)]\tLoss: 0.026883\n",
            "Train Epoch: 1 [45440/60000 (76%)]\tLoss: 0.090026\n",
            "Train Epoch: 1 [46080/60000 (77%)]\tLoss: 0.045995\n",
            "Train Epoch: 1 [46720/60000 (78%)]\tLoss: 0.071638\n",
            "Train Epoch: 1 [47360/60000 (79%)]\tLoss: 0.109240\n",
            "Train Epoch: 1 [48000/60000 (80%)]\tLoss: 0.362081\n",
            "Train Epoch: 1 [48640/60000 (81%)]\tLoss: 0.133045\n",
            "Train Epoch: 1 [49280/60000 (82%)]\tLoss: 0.121914\n",
            "Train Epoch: 1 [49920/60000 (83%)]\tLoss: 0.070015\n",
            "Train Epoch: 1 [50560/60000 (84%)]\tLoss: 0.147302\n",
            "Train Epoch: 1 [51200/60000 (85%)]\tLoss: 0.126665\n",
            "Train Epoch: 1 [51840/60000 (86%)]\tLoss: 0.050690\n",
            "Train Epoch: 1 [52480/60000 (87%)]\tLoss: 0.068472\n",
            "Train Epoch: 1 [53120/60000 (88%)]\tLoss: 0.135698\n",
            "Train Epoch: 1 [53760/60000 (90%)]\tLoss: 0.057751\n",
            "Train Epoch: 1 [54400/60000 (91%)]\tLoss: 0.170281\n",
            "Train Epoch: 1 [55040/60000 (92%)]\tLoss: 0.080304\n",
            "Train Epoch: 1 [55680/60000 (93%)]\tLoss: 0.096571\n",
            "Train Epoch: 1 [56320/60000 (94%)]\tLoss: 0.100161\n",
            "Train Epoch: 1 [56960/60000 (95%)]\tLoss: 0.304113\n",
            "Train Epoch: 1 [57600/60000 (96%)]\tLoss: 0.320574\n",
            "Train Epoch: 1 [58240/60000 (97%)]\tLoss: 0.168709\n",
            "Train Epoch: 1 [58880/60000 (98%)]\tLoss: 0.100205\n",
            "Train Epoch: 1 [59520/60000 (99%)]\tLoss: 0.236301\n",
            "\n",
            "Test set: Avg. loss: 0.0591, Accuracy: 9805/10000 (98%)\n",
            "\n",
            "Train Epoch: 2 [0/60000 (0%)]\tLoss: 0.093404\n",
            "Train Epoch: 2 [640/60000 (1%)]\tLoss: 0.142697\n",
            "Train Epoch: 2 [1280/60000 (2%)]\tLoss: 0.075707\n",
            "Train Epoch: 2 [1920/60000 (3%)]\tLoss: 0.122248\n",
            "Train Epoch: 2 [2560/60000 (4%)]\tLoss: 0.062276\n",
            "Train Epoch: 2 [3200/60000 (5%)]\tLoss: 0.066205\n",
            "Train Epoch: 2 [3840/60000 (6%)]\tLoss: 0.143317\n",
            "Train Epoch: 2 [4480/60000 (7%)]\tLoss: 0.209611\n",
            "Train Epoch: 2 [5120/60000 (9%)]\tLoss: 0.052306\n",
            "Train Epoch: 2 [5760/60000 (10%)]\tLoss: 0.034678\n",
            "Train Epoch: 2 [6400/60000 (11%)]\tLoss: 0.064974\n",
            "Train Epoch: 2 [7040/60000 (12%)]\tLoss: 0.041701\n",
            "Train Epoch: 2 [7680/60000 (13%)]\tLoss: 0.076355\n",
            "Train Epoch: 2 [8320/60000 (14%)]\tLoss: 0.064886\n",
            "Train Epoch: 2 [8960/60000 (15%)]\tLoss: 0.337753\n",
            "Train Epoch: 2 [9600/60000 (16%)]\tLoss: 0.080617\n",
            "Train Epoch: 2 [10240/60000 (17%)]\tLoss: 0.143831\n",
            "Train Epoch: 2 [10880/60000 (18%)]\tLoss: 0.113973\n",
            "Train Epoch: 2 [11520/60000 (19%)]\tLoss: 0.095319\n",
            "Train Epoch: 2 [12160/60000 (20%)]\tLoss: 0.056637\n",
            "Train Epoch: 2 [12800/60000 (21%)]\tLoss: 0.043878\n",
            "Train Epoch: 2 [13440/60000 (22%)]\tLoss: 0.009711\n",
            "Train Epoch: 2 [14080/60000 (23%)]\tLoss: 0.027259\n",
            "Train Epoch: 2 [14720/60000 (25%)]\tLoss: 0.041237\n",
            "Train Epoch: 2 [15360/60000 (26%)]\tLoss: 0.054961\n",
            "Train Epoch: 2 [16000/60000 (27%)]\tLoss: 0.057778\n",
            "Train Epoch: 2 [16640/60000 (28%)]\tLoss: 0.023249\n",
            "Train Epoch: 2 [17280/60000 (29%)]\tLoss: 0.035404\n",
            "Train Epoch: 2 [17920/60000 (30%)]\tLoss: 0.078579\n",
            "Train Epoch: 2 [18560/60000 (31%)]\tLoss: 0.012694\n",
            "Train Epoch: 2 [19200/60000 (32%)]\tLoss: 0.037991\n",
            "Train Epoch: 2 [19840/60000 (33%)]\tLoss: 0.053589\n",
            "Train Epoch: 2 [20480/60000 (34%)]\tLoss: 0.076345\n",
            "Train Epoch: 2 [21120/60000 (35%)]\tLoss: 0.116148\n",
            "Train Epoch: 2 [21760/60000 (36%)]\tLoss: 0.063432\n",
            "Train Epoch: 2 [22400/60000 (37%)]\tLoss: 0.053998\n",
            "Train Epoch: 2 [23040/60000 (38%)]\tLoss: 0.062238\n",
            "Train Epoch: 2 [23680/60000 (39%)]\tLoss: 0.074033\n",
            "Train Epoch: 2 [24320/60000 (41%)]\tLoss: 0.130286\n",
            "Train Epoch: 2 [24960/60000 (42%)]\tLoss: 0.050367\n",
            "Train Epoch: 2 [25600/60000 (43%)]\tLoss: 0.054968\n",
            "Train Epoch: 2 [26240/60000 (44%)]\tLoss: 0.109359\n",
            "Train Epoch: 2 [26880/60000 (45%)]\tLoss: 0.123522\n",
            "Train Epoch: 2 [27520/60000 (46%)]\tLoss: 0.052112\n",
            "Train Epoch: 2 [28160/60000 (47%)]\tLoss: 0.058054\n",
            "Train Epoch: 2 [28800/60000 (48%)]\tLoss: 0.056884\n",
            "Train Epoch: 2 [29440/60000 (49%)]\tLoss: 0.207209\n",
            "Train Epoch: 2 [30080/60000 (50%)]\tLoss: 0.039571\n",
            "Train Epoch: 2 [30720/60000 (51%)]\tLoss: 0.184508\n",
            "Train Epoch: 2 [31360/60000 (52%)]\tLoss: 0.095669\n",
            "Train Epoch: 2 [32000/60000 (53%)]\tLoss: 0.076191\n",
            "Train Epoch: 2 [32640/60000 (54%)]\tLoss: 0.067636\n",
            "Train Epoch: 2 [33280/60000 (55%)]\tLoss: 0.136467\n",
            "Train Epoch: 2 [33920/60000 (57%)]\tLoss: 0.108400\n",
            "Train Epoch: 2 [34560/60000 (58%)]\tLoss: 0.062476\n",
            "Train Epoch: 2 [35200/60000 (59%)]\tLoss: 0.183011\n",
            "Train Epoch: 2 [35840/60000 (60%)]\tLoss: 0.031296\n",
            "Train Epoch: 2 [36480/60000 (61%)]\tLoss: 0.153220\n",
            "Train Epoch: 2 [37120/60000 (62%)]\tLoss: 0.121203\n",
            "Train Epoch: 2 [37760/60000 (63%)]\tLoss: 0.039877\n",
            "Train Epoch: 2 [38400/60000 (64%)]\tLoss: 0.035986\n",
            "Train Epoch: 2 [39040/60000 (65%)]\tLoss: 0.053056\n",
            "Train Epoch: 2 [39680/60000 (66%)]\tLoss: 0.010019\n",
            "Train Epoch: 2 [40320/60000 (67%)]\tLoss: 0.132289\n",
            "Train Epoch: 2 [40960/60000 (68%)]\tLoss: 0.249823\n",
            "Train Epoch: 2 [41600/60000 (69%)]\tLoss: 0.061633\n",
            "Train Epoch: 2 [42240/60000 (70%)]\tLoss: 0.177305\n",
            "Train Epoch: 2 [42880/60000 (71%)]\tLoss: 0.019003\n",
            "Train Epoch: 2 [43520/60000 (72%)]\tLoss: 0.195065\n",
            "Train Epoch: 2 [44160/60000 (74%)]\tLoss: 0.063185\n",
            "Train Epoch: 2 [44800/60000 (75%)]\tLoss: 0.059453\n",
            "Train Epoch: 2 [45440/60000 (76%)]\tLoss: 0.067185\n",
            "Train Epoch: 2 [46080/60000 (77%)]\tLoss: 0.027700\n",
            "Train Epoch: 2 [46720/60000 (78%)]\tLoss: 0.093032\n",
            "Train Epoch: 2 [47360/60000 (79%)]\tLoss: 0.020304\n",
            "Train Epoch: 2 [48000/60000 (80%)]\tLoss: 0.131749\n",
            "Train Epoch: 2 [48640/60000 (81%)]\tLoss: 0.052281\n",
            "Train Epoch: 2 [49280/60000 (82%)]\tLoss: 0.132016\n",
            "Train Epoch: 2 [49920/60000 (83%)]\tLoss: 0.107706\n",
            "Train Epoch: 2 [50560/60000 (84%)]\tLoss: 0.133676\n",
            "Train Epoch: 2 [51200/60000 (85%)]\tLoss: 0.074769\n",
            "Train Epoch: 2 [51840/60000 (86%)]\tLoss: 0.080699\n",
            "Train Epoch: 2 [52480/60000 (87%)]\tLoss: 0.054917\n",
            "Train Epoch: 2 [53120/60000 (88%)]\tLoss: 0.088179\n",
            "Train Epoch: 2 [53760/60000 (90%)]\tLoss: 0.060064\n",
            "Train Epoch: 2 [54400/60000 (91%)]\tLoss: 0.175346\n",
            "Train Epoch: 2 [55040/60000 (92%)]\tLoss: 0.137770\n",
            "Train Epoch: 2 [55680/60000 (93%)]\tLoss: 0.048253\n",
            "Train Epoch: 2 [56320/60000 (94%)]\tLoss: 0.157711\n",
            "Train Epoch: 2 [56960/60000 (95%)]\tLoss: 0.033090\n",
            "Train Epoch: 2 [57600/60000 (96%)]\tLoss: 0.021303\n",
            "Train Epoch: 2 [58240/60000 (97%)]\tLoss: 0.113642\n",
            "Train Epoch: 2 [58880/60000 (98%)]\tLoss: 0.149346\n",
            "Train Epoch: 2 [59520/60000 (99%)]\tLoss: 0.035570\n",
            "\n",
            "Test set: Avg. loss: 0.0397, Accuracy: 9867/10000 (99%)\n",
            "\n",
            "Train Epoch: 3 [0/60000 (0%)]\tLoss: 0.043284\n",
            "Train Epoch: 3 [640/60000 (1%)]\tLoss: 0.155356\n",
            "Train Epoch: 3 [1280/60000 (2%)]\tLoss: 0.071525\n",
            "Train Epoch: 3 [1920/60000 (3%)]\tLoss: 0.017127\n",
            "Train Epoch: 3 [2560/60000 (4%)]\tLoss: 0.008867\n",
            "Train Epoch: 3 [3200/60000 (5%)]\tLoss: 0.199646\n",
            "Train Epoch: 3 [3840/60000 (6%)]\tLoss: 0.035215\n",
            "Train Epoch: 3 [4480/60000 (7%)]\tLoss: 0.047109\n",
            "Train Epoch: 3 [5120/60000 (9%)]\tLoss: 0.066515\n",
            "Train Epoch: 3 [5760/60000 (10%)]\tLoss: 0.168420\n",
            "Train Epoch: 3 [6400/60000 (11%)]\tLoss: 0.059255\n",
            "Train Epoch: 3 [7040/60000 (12%)]\tLoss: 0.216738\n",
            "Train Epoch: 3 [7680/60000 (13%)]\tLoss: 0.039250\n",
            "Train Epoch: 3 [8320/60000 (14%)]\tLoss: 0.188607\n",
            "Train Epoch: 3 [8960/60000 (15%)]\tLoss: 0.045421\n",
            "Train Epoch: 3 [9600/60000 (16%)]\tLoss: 0.063100\n",
            "Train Epoch: 3 [10240/60000 (17%)]\tLoss: 0.224037\n",
            "Train Epoch: 3 [10880/60000 (18%)]\tLoss: 0.182932\n",
            "Train Epoch: 3 [11520/60000 (19%)]\tLoss: 0.048721\n",
            "Train Epoch: 3 [12160/60000 (20%)]\tLoss: 0.065585\n",
            "Train Epoch: 3 [12800/60000 (21%)]\tLoss: 0.090703\n",
            "Train Epoch: 3 [13440/60000 (22%)]\tLoss: 0.123051\n",
            "Train Epoch: 3 [14080/60000 (23%)]\tLoss: 0.067172\n",
            "Train Epoch: 3 [14720/60000 (25%)]\tLoss: 0.024518\n",
            "Train Epoch: 3 [15360/60000 (26%)]\tLoss: 0.035801\n",
            "Train Epoch: 3 [16000/60000 (27%)]\tLoss: 0.011835\n",
            "Train Epoch: 3 [16640/60000 (28%)]\tLoss: 0.014037\n",
            "Train Epoch: 3 [17280/60000 (29%)]\tLoss: 0.011695\n",
            "Train Epoch: 3 [17920/60000 (30%)]\tLoss: 0.012407\n",
            "Train Epoch: 3 [18560/60000 (31%)]\tLoss: 0.117436\n",
            "Train Epoch: 3 [19200/60000 (32%)]\tLoss: 0.099659\n",
            "Train Epoch: 3 [19840/60000 (33%)]\tLoss: 0.136683\n",
            "Train Epoch: 3 [20480/60000 (34%)]\tLoss: 0.088203\n",
            "Train Epoch: 3 [21120/60000 (35%)]\tLoss: 0.052518\n",
            "Train Epoch: 3 [21760/60000 (36%)]\tLoss: 0.008689\n",
            "Train Epoch: 3 [22400/60000 (37%)]\tLoss: 0.028755\n",
            "Train Epoch: 3 [23040/60000 (38%)]\tLoss: 0.072194\n",
            "Train Epoch: 3 [23680/60000 (39%)]\tLoss: 0.062983\n",
            "Train Epoch: 3 [24320/60000 (41%)]\tLoss: 0.011617\n",
            "Train Epoch: 3 [24960/60000 (42%)]\tLoss: 0.025214\n",
            "Train Epoch: 3 [25600/60000 (43%)]\tLoss: 0.132862\n",
            "Train Epoch: 3 [26240/60000 (44%)]\tLoss: 0.055730\n",
            "Train Epoch: 3 [26880/60000 (45%)]\tLoss: 0.050239\n",
            "Train Epoch: 3 [27520/60000 (46%)]\tLoss: 0.029248\n",
            "Train Epoch: 3 [28160/60000 (47%)]\tLoss: 0.027815\n",
            "Train Epoch: 3 [28800/60000 (48%)]\tLoss: 0.170428\n",
            "Train Epoch: 3 [29440/60000 (49%)]\tLoss: 0.067173\n",
            "Train Epoch: 3 [30080/60000 (50%)]\tLoss: 0.099344\n",
            "Train Epoch: 3 [30720/60000 (51%)]\tLoss: 0.030426\n",
            "Train Epoch: 3 [31360/60000 (52%)]\tLoss: 0.234424\n",
            "Train Epoch: 3 [32000/60000 (53%)]\tLoss: 0.055119\n",
            "Train Epoch: 3 [32640/60000 (54%)]\tLoss: 0.078946\n",
            "Train Epoch: 3 [33280/60000 (55%)]\tLoss: 0.204672\n",
            "Train Epoch: 3 [33920/60000 (57%)]\tLoss: 0.027928\n",
            "Train Epoch: 3 [34560/60000 (58%)]\tLoss: 0.015794\n",
            "Train Epoch: 3 [35200/60000 (59%)]\tLoss: 0.055636\n",
            "Train Epoch: 3 [35840/60000 (60%)]\tLoss: 0.052452\n",
            "Train Epoch: 3 [36480/60000 (61%)]\tLoss: 0.051592\n",
            "Train Epoch: 3 [37120/60000 (62%)]\tLoss: 0.059610\n",
            "Train Epoch: 3 [37760/60000 (63%)]\tLoss: 0.010956\n",
            "Train Epoch: 3 [38400/60000 (64%)]\tLoss: 0.019715\n",
            "Train Epoch: 3 [39040/60000 (65%)]\tLoss: 0.031501\n",
            "Train Epoch: 3 [39680/60000 (66%)]\tLoss: 0.020860\n",
            "Train Epoch: 3 [40320/60000 (67%)]\tLoss: 0.115071\n",
            "Train Epoch: 3 [40960/60000 (68%)]\tLoss: 0.046877\n",
            "Train Epoch: 3 [41600/60000 (69%)]\tLoss: 0.028945\n",
            "Train Epoch: 3 [42240/60000 (70%)]\tLoss: 0.164839\n",
            "Train Epoch: 3 [42880/60000 (71%)]\tLoss: 0.062673\n",
            "Train Epoch: 3 [43520/60000 (72%)]\tLoss: 0.032760\n",
            "Train Epoch: 3 [44160/60000 (74%)]\tLoss: 0.124366\n",
            "Train Epoch: 3 [44800/60000 (75%)]\tLoss: 0.053321\n",
            "Train Epoch: 3 [45440/60000 (76%)]\tLoss: 0.089644\n",
            "Train Epoch: 3 [46080/60000 (77%)]\tLoss: 0.016602\n",
            "Train Epoch: 3 [46720/60000 (78%)]\tLoss: 0.139072\n",
            "Train Epoch: 3 [47360/60000 (79%)]\tLoss: 0.031684\n",
            "Train Epoch: 3 [48000/60000 (80%)]\tLoss: 0.049149\n",
            "Train Epoch: 3 [48640/60000 (81%)]\tLoss: 0.022301\n",
            "Train Epoch: 3 [49280/60000 (82%)]\tLoss: 0.051648\n",
            "Train Epoch: 3 [49920/60000 (83%)]\tLoss: 0.083331\n",
            "Train Epoch: 3 [50560/60000 (84%)]\tLoss: 0.063913\n",
            "Train Epoch: 3 [51200/60000 (85%)]\tLoss: 0.040359\n",
            "Train Epoch: 3 [51840/60000 (86%)]\tLoss: 0.014917\n",
            "Train Epoch: 3 [52480/60000 (87%)]\tLoss: 0.106718\n",
            "Train Epoch: 3 [53120/60000 (88%)]\tLoss: 0.052309\n",
            "Train Epoch: 3 [53760/60000 (90%)]\tLoss: 0.053436\n",
            "Train Epoch: 3 [54400/60000 (91%)]\tLoss: 0.126226\n",
            "Train Epoch: 3 [55040/60000 (92%)]\tLoss: 0.086270\n",
            "Train Epoch: 3 [55680/60000 (93%)]\tLoss: 0.030261\n",
            "Train Epoch: 3 [56320/60000 (94%)]\tLoss: 0.038238\n",
            "Train Epoch: 3 [56960/60000 (95%)]\tLoss: 0.050280\n",
            "Train Epoch: 3 [57600/60000 (96%)]\tLoss: 0.026408\n",
            "Train Epoch: 3 [58240/60000 (97%)]\tLoss: 0.056250\n",
            "Train Epoch: 3 [58880/60000 (98%)]\tLoss: 0.122195\n",
            "Train Epoch: 3 [59520/60000 (99%)]\tLoss: 0.086888\n",
            "\n",
            "Test set: Avg. loss: 0.0318, Accuracy: 9888/10000 (99%)\n",
            "\n",
            "Train Epoch: 4 [0/60000 (0%)]\tLoss: 0.006135\n",
            "Train Epoch: 4 [640/60000 (1%)]\tLoss: 0.016705\n",
            "Train Epoch: 4 [1280/60000 (2%)]\tLoss: 0.011614\n",
            "Train Epoch: 4 [1920/60000 (3%)]\tLoss: 0.034691\n",
            "Train Epoch: 4 [2560/60000 (4%)]\tLoss: 0.067353\n",
            "Train Epoch: 4 [3200/60000 (5%)]\tLoss: 0.016868\n",
            "Train Epoch: 4 [3840/60000 (6%)]\tLoss: 0.057191\n",
            "Train Epoch: 4 [4480/60000 (7%)]\tLoss: 0.077500\n",
            "Train Epoch: 4 [5120/60000 (9%)]\tLoss: 0.071985\n",
            "Train Epoch: 4 [5760/60000 (10%)]\tLoss: 0.063146\n",
            "Train Epoch: 4 [6400/60000 (11%)]\tLoss: 0.009684\n",
            "Train Epoch: 4 [7040/60000 (12%)]\tLoss: 0.010571\n",
            "Train Epoch: 4 [7680/60000 (13%)]\tLoss: 0.009932\n",
            "Train Epoch: 4 [8320/60000 (14%)]\tLoss: 0.077360\n",
            "Train Epoch: 4 [8960/60000 (15%)]\tLoss: 0.058835\n",
            "Train Epoch: 4 [9600/60000 (16%)]\tLoss: 0.037024\n",
            "Train Epoch: 4 [10240/60000 (17%)]\tLoss: 0.026688\n",
            "Train Epoch: 4 [10880/60000 (18%)]\tLoss: 0.024467\n",
            "Train Epoch: 4 [11520/60000 (19%)]\tLoss: 0.010086\n",
            "Train Epoch: 4 [12160/60000 (20%)]\tLoss: 0.018699\n",
            "Train Epoch: 4 [12800/60000 (21%)]\tLoss: 0.033342\n",
            "Train Epoch: 4 [13440/60000 (22%)]\tLoss: 0.128963\n",
            "Train Epoch: 4 [14080/60000 (23%)]\tLoss: 0.044007\n",
            "Train Epoch: 4 [14720/60000 (25%)]\tLoss: 0.185135\n",
            "Train Epoch: 4 [15360/60000 (26%)]\tLoss: 0.008419\n",
            "Train Epoch: 4 [16000/60000 (27%)]\tLoss: 0.014462\n",
            "Train Epoch: 4 [16640/60000 (28%)]\tLoss: 0.015352\n",
            "Train Epoch: 4 [17280/60000 (29%)]\tLoss: 0.028172\n",
            "Train Epoch: 4 [17920/60000 (30%)]\tLoss: 0.081449\n",
            "Train Epoch: 4 [18560/60000 (31%)]\tLoss: 0.022329\n",
            "Train Epoch: 4 [19200/60000 (32%)]\tLoss: 0.104021\n",
            "Train Epoch: 4 [19840/60000 (33%)]\tLoss: 0.055116\n",
            "Train Epoch: 4 [20480/60000 (34%)]\tLoss: 0.094124\n",
            "Train Epoch: 4 [21120/60000 (35%)]\tLoss: 0.056585\n",
            "Train Epoch: 4 [21760/60000 (36%)]\tLoss: 0.015814\n",
            "Train Epoch: 4 [22400/60000 (37%)]\tLoss: 0.127037\n",
            "Train Epoch: 4 [23040/60000 (38%)]\tLoss: 0.016394\n",
            "Train Epoch: 4 [23680/60000 (39%)]\tLoss: 0.007316\n",
            "Train Epoch: 4 [24320/60000 (41%)]\tLoss: 0.024254\n",
            "Train Epoch: 4 [24960/60000 (42%)]\tLoss: 0.010455\n",
            "Train Epoch: 4 [25600/60000 (43%)]\tLoss: 0.015278\n",
            "Train Epoch: 4 [26240/60000 (44%)]\tLoss: 0.015390\n",
            "Train Epoch: 4 [26880/60000 (45%)]\tLoss: 0.086349\n",
            "Train Epoch: 4 [27520/60000 (46%)]\tLoss: 0.047514\n",
            "Train Epoch: 4 [28160/60000 (47%)]\tLoss: 0.041184\n",
            "Train Epoch: 4 [28800/60000 (48%)]\tLoss: 0.050928\n",
            "Train Epoch: 4 [29440/60000 (49%)]\tLoss: 0.030096\n",
            "Train Epoch: 4 [30080/60000 (50%)]\tLoss: 0.004339\n",
            "Train Epoch: 4 [30720/60000 (51%)]\tLoss: 0.031307\n",
            "Train Epoch: 4 [31360/60000 (52%)]\tLoss: 0.041382\n",
            "Train Epoch: 4 [32000/60000 (53%)]\tLoss: 0.065885\n",
            "Train Epoch: 4 [32640/60000 (54%)]\tLoss: 0.061760\n",
            "Train Epoch: 4 [33280/60000 (55%)]\tLoss: 0.071265\n",
            "Train Epoch: 4 [33920/60000 (57%)]\tLoss: 0.215713\n",
            "Train Epoch: 4 [34560/60000 (58%)]\tLoss: 0.065507\n",
            "Train Epoch: 4 [35200/60000 (59%)]\tLoss: 0.002911\n",
            "Train Epoch: 4 [35840/60000 (60%)]\tLoss: 0.050330\n",
            "Train Epoch: 4 [36480/60000 (61%)]\tLoss: 0.032083\n",
            "Train Epoch: 4 [37120/60000 (62%)]\tLoss: 0.116865\n",
            "Train Epoch: 4 [37760/60000 (63%)]\tLoss: 0.057236\n",
            "Train Epoch: 4 [38400/60000 (64%)]\tLoss: 0.078344\n",
            "Train Epoch: 4 [39040/60000 (65%)]\tLoss: 0.025858\n",
            "Train Epoch: 4 [39680/60000 (66%)]\tLoss: 0.026173\n",
            "Train Epoch: 4 [40320/60000 (67%)]\tLoss: 0.027933\n",
            "Train Epoch: 4 [40960/60000 (68%)]\tLoss: 0.029653\n",
            "Train Epoch: 4 [41600/60000 (69%)]\tLoss: 0.170799\n",
            "Train Epoch: 4 [42240/60000 (70%)]\tLoss: 0.060435\n",
            "Train Epoch: 4 [42880/60000 (71%)]\tLoss: 0.053028\n",
            "Train Epoch: 4 [43520/60000 (72%)]\tLoss: 0.037438\n",
            "Train Epoch: 4 [44160/60000 (74%)]\tLoss: 0.127338\n",
            "Train Epoch: 4 [44800/60000 (75%)]\tLoss: 0.249121\n",
            "Train Epoch: 4 [45440/60000 (76%)]\tLoss: 0.087673\n",
            "Train Epoch: 4 [46080/60000 (77%)]\tLoss: 0.004544\n",
            "Train Epoch: 4 [46720/60000 (78%)]\tLoss: 0.046075\n",
            "Train Epoch: 4 [47360/60000 (79%)]\tLoss: 0.100503\n",
            "Train Epoch: 4 [48000/60000 (80%)]\tLoss: 0.148594\n",
            "Train Epoch: 4 [48640/60000 (81%)]\tLoss: 0.073157\n",
            "Train Epoch: 4 [49280/60000 (82%)]\tLoss: 0.082510\n",
            "Train Epoch: 4 [49920/60000 (83%)]\tLoss: 0.013476\n",
            "Train Epoch: 4 [50560/60000 (84%)]\tLoss: 0.037346\n",
            "Train Epoch: 4 [51200/60000 (85%)]\tLoss: 0.030923\n",
            "Train Epoch: 4 [51840/60000 (86%)]\tLoss: 0.017163\n",
            "Train Epoch: 4 [52480/60000 (87%)]\tLoss: 0.033387\n",
            "Train Epoch: 4 [53120/60000 (88%)]\tLoss: 0.086885\n",
            "Train Epoch: 4 [53760/60000 (90%)]\tLoss: 0.039481\n",
            "Train Epoch: 4 [54400/60000 (91%)]\tLoss: 0.056453\n",
            "Train Epoch: 4 [55040/60000 (92%)]\tLoss: 0.013867\n",
            "Train Epoch: 4 [55680/60000 (93%)]\tLoss: 0.017875\n",
            "Train Epoch: 4 [56320/60000 (94%)]\tLoss: 0.002059\n",
            "Train Epoch: 4 [56960/60000 (95%)]\tLoss: 0.027840\n",
            "Train Epoch: 4 [57600/60000 (96%)]\tLoss: 0.132821\n",
            "Train Epoch: 4 [58240/60000 (97%)]\tLoss: 0.013840\n",
            "Train Epoch: 4 [58880/60000 (98%)]\tLoss: 0.011733\n",
            "Train Epoch: 4 [59520/60000 (99%)]\tLoss: 0.013260\n",
            "\n",
            "Test set: Avg. loss: 0.0271, Accuracy: 9902/10000 (99%)\n",
            "\n"
          ]
        }
      ]
    },
    {
      "cell_type": "code",
      "source": [
        "fig = plt.figure()\n",
        "plt.plot(train_counter, train_losses, color='blue')\n",
        "plt.plot(test_counter, test_losses, color='red')\n",
        "plt.legend(['Train Loss', 'Test Loss'], loc='upper right')\n",
        "plt.xlabel('number of training examples seen')\n",
        "plt.ylabel('negative log likelihood loss')\n",
        "fig"
      ],
      "metadata": {
        "colab": {
          "base_uri": "https://localhost:8080/",
          "height": 541
        },
        "id": "V28KRuH7HyWa",
        "outputId": "887d36bb-5a32-4df7-cb9f-69e9e64f7f32"
      },
      "execution_count": null,
      "outputs": [
        {
          "output_type": "execute_result",
          "data": {
            "image/png": "[encoded data removed]",
            "text/plain": [
              "<Figure size 432x288 with 1 Axes>"
            ]
          },
          "metadata": {},
          "execution_count": 40
        },
        {
          "output_type": "display_data",
          "data": {
            "image/png": "[encoded data removed]",
            "text/plain": [
              "<Figure size 432x288 with 1 Axes>"
            ]
          },
          "metadata": {
            "needs_background": "light"
          }
        }
      ]
    },
    {
      "cell_type": "markdown",
      "source": [
        "TESTING MODEL"
      ],
      "metadata": {
        "id": "AojzbyFcIagK"
      }
    },
    {
      "cell_type": "code",
      "source": [
        "with torch.no_grad(): #NO GRAD kalo gaada gradient di testing, cuma ada di proses training\n",
        "  output = network(example_data)"
      ],
      "metadata": {
        "colab": {
          "base_uri": "https://localhost:8080/"
        },
        "id": "eyJvtbcQIZ7n",
        "outputId": "c14453fb-7cc9-4192-b3cf-a531d6d18fc1"
      },
      "execution_count": null,
      "outputs": [
        {
          "output_type": "stream",
          "name": "stderr",
          "text": [
            "/usr/local/lib/python3.7/dist-packages/ipykernel_launcher.py:20: UserWarning: Implicit dimension choice for log_softmax has been deprecated. Change the call to include dim=X as an argument.\n"
          ]
        }
      ]
    },
    {
      "cell_type": "code",
      "source": [
        "fig = plt.figure()\n",
        "for i in range(24):\n",
        "  plt.subplot(6,4,i+1)\n",
        "  plt.tight_layout()\n",
        "  plt.imshow(example_data[i][0], cmap='gray', interpolation='none')\n",
        "  plt.title(\"Prediction: {}\".format(\n",
        "    output.data.max(1, keepdim=True)[1][i].item()))\n",
        "  plt.xticks([])\n",
        "  plt.yticks([])\n",
        "fig"
      ],
      "metadata": {
        "colab": {
          "base_uri": "https://localhost:8080/",
          "height": 551
        },
        "id": "FhUVz15PIwgf",
        "outputId": "c4ec54b3-2c84-4e1e-e488-82a116da9d23"
      },
      "execution_count": null,
      "outputs": [
        {
          "output_type": "execute_result",
          "data": {
            "image/png": "[encoded data removed]",
            "text/plain": [
              "<Figure size 432x288 with 24 Axes>"
            ]
          },
          "metadata": {},
          "execution_count": 42
        },
        {
          "output_type": "display_data",
          "data": {
            "image/png": "[encoded data removed]",
            "text/plain": [
              "<Figure size 432x288 with 24 Axes>"
            ]
          },
          "metadata": {}
        }
      ]
    }
  ]
}